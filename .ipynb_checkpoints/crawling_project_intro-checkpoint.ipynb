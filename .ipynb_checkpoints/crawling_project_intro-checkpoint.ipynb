{
 "cells": [
  {
   "cell_type": "markdown",
   "metadata": {
    "id": "z2edKJzlI7ts"
   },
   "source": [
    "#### 크롤링 프로젝트\n",
    "- 1. 데이터 수집의 개요\n",
    "    - 목적 및 동기 \n",
    "- 2. 데이터 수집의 계획\n",
    "    - 어떤 서비스와 기술들을 사용해서 어떤 프로세스로 수집\n",
    "    - 크롤링 프로세스가 포함된 구조도 작성\n",
    "- 3. 크롤링 코드 실행 및 작성\n",
    "    - 무조건 서버에서 동작\n",
    "    - 패키지, scrapy로 작성\n",
    "- 4. 데이터 저장\n",
    "    - 수집된 데이터는 Mongodb나 Mysql에 저장\n",
    "- 5. 코드의 관리\n",
    "    - github에서 관리, 공유, 이슈처리 및 피드백\n",
    "    - github의 설명은 처음 보는 사람이 코드를 실행해볼수 있도록 작성\n",
    "    - 설치 패키지는 requirements.txt 파일로 작성\n",
    "- 6. 회고\n",
    "    - 느낀점\n",
    "    - 추후 연구 및 개선 방향\n",
    "\n",
    "- github 참고 사이트 \n",
    "  - https://github.com/clovaai/CRAFT-pytorch\n",
    "  - https://github.com/VeranosTech/docs-korean-docker\n",
    "  - https://github.com/arc298/instagram-scraper"
   ]
  },
  {
   "cell_type": "code",
   "execution_count": null,
   "metadata": {
    "id": "HFUHiTD4TJAF"
   },
   "outputs": [],
   "source": []
  }
 ],
 "metadata": {
  "colab": {
   "collapsed_sections": [],
   "name": "01_crawling_project.ipynb",
   "provenance": []
  },
  "kernelspec": {
   "display_name": "Python 3",
   "language": "python",
   "name": "python3"
  },
  "language_info": {
   "codemirror_mode": {
    "name": "ipython",
    "version": 3
   },
   "file_extension": ".py",
   "mimetype": "text/x-python",
   "name": "python",
   "nbconvert_exporter": "python",
   "pygments_lexer": "ipython3",
   "version": "3.8.3"
  }
 },
 "nbformat": 4,
 "nbformat_minor": 1
}
