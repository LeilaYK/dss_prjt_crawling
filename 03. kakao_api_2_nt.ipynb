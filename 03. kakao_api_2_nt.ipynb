{
 "cells": [
  {
   "cell_type": "markdown",
   "metadata": {},
   "source": [
    "#### 카카오톡 메시지 보내기\n",
    "- 사용자 인증이 필요한 API"
   ]
  },
  {
   "cell_type": "code",
   "execution_count": 6,
   "metadata": {},
   "outputs": [],
   "source": [
    "# 1. APP 등록 > Request Token\n",
    "# redirect_url 설정 : 'https://fastcampus.co.kr/oauth'"
   ]
  },
  {
   "cell_type": "code",
   "execution_count": 7,
   "metadata": {},
   "outputs": [],
   "source": [
    "api_key = 'ddd40f9dd9e40b162ae40975c55a4a7c'\n",
    "redirect_url = 'https://fastcampus.co.kr/oauth'"
   ]
  },
  {
   "cell_type": "code",
   "execution_count": null,
   "metadata": {},
   "outputs": [],
   "source": []
  },
  {
   "cell_type": "code",
   "execution_count": 3,
   "metadata": {},
   "outputs": [],
   "source": [
    "# 2. Oauth로 사용자 동의 얻기 > Access Token"
   ]
  },
  {
   "cell_type": "code",
   "execution_count": 4,
   "metadata": {},
   "outputs": [],
   "source": [
    "# 2-1 Request Token > authorize code : 로그인 인증"
   ]
  },
  {
   "cell_type": "code",
   "execution_count": 8,
   "metadata": {},
   "outputs": [],
   "source": [
    "# 사용자 로그인 및 권한 획득을 위한 oauth 웹페이지 url"
   ]
  },
  {
   "cell_type": "code",
   "execution_count": 12,
   "metadata": {},
   "outputs": [
    {
     "name": "stdout",
     "output_type": "stream",
     "text": [
      "https://kauth.kakao.com/oauth/authorize?client_id=ddd40f9dd9e40b162ae40975c55a4a7c&redirect_uri=https://fastcampus.co.kr/oauth&response_type=code\n"
     ]
    }
   ],
   "source": [
    "url = 'https://kauth.kakao.com/oauth/authorize?\\\n",
    "client_id={REST_API_KEY}&redirect_uri={REDIRECT_URI}&response_type=code'\\\n",
    ".format(REST_API_KEY=api_key, REDIRECT_URI=redirect_url)\n",
    "\n",
    "print(url)"
   ]
  },
  {
   "cell_type": "code",
   "execution_count": 14,
   "metadata": {},
   "outputs": [],
   "source": [
    "# authorize_code는 1회만 사용 가능\n",
    "authorize_code = '0OZpUoLmJM0uzOTdmhFRGWKc1CAG-A9x1jOV7XBhbzsf5f9ohcDQ5B-c4muEbOgDH9MllQo9dJkAAAF12gmcGw'"
   ]
  },
  {
   "cell_type": "code",
   "execution_count": 5,
   "metadata": {},
   "outputs": [],
   "source": [
    "# 2-2 authorize code > Access Token"
   ]
  },
  {
   "cell_type": "code",
   "execution_count": 15,
   "metadata": {},
   "outputs": [],
   "source": [
    "url = 'https://kauth.kakao.com/oauth/token'"
   ]
  },
  {
   "cell_type": "code",
   "execution_count": 17,
   "metadata": {},
   "outputs": [
    {
     "data": {
      "text/plain": [
       "<Response [200]>"
      ]
     },
     "execution_count": 17,
     "metadata": {},
     "output_type": "execute_result"
    }
   ],
   "source": [
    "params = {\n",
    "    'grant_type': 'authorization_code',\n",
    "    'client_id': api_key,\n",
    "    'redirect_uri': redirect_url,\n",
    "    'code': authorize_code\n",
    "}\n",
    "response = requests.post(url, params)\n",
    "response"
   ]
  },
  {
   "cell_type": "code",
   "execution_count": 18,
   "metadata": {},
   "outputs": [
    {
     "data": {
      "text/plain": [
       "{'access_token': '0OO7BDwNFuBeqp7Dg_G7B8n8flAzkgznN1AePQorDNQAAAF12hDQMA',\n",
       " 'token_type': 'bearer',\n",
       " 'refresh_token': 'QEzE9fT2gk3mmxt0ZVQ8rLWeV6ViE2msTDqYFgorDNQAAAF12hDQLw',\n",
       " 'expires_in': 21599,\n",
       " 'scope': 'talk_message profile',\n",
       " 'refresh_token_expires_in': 5183999}"
      ]
     },
     "execution_count": 18,
     "metadata": {},
     "output_type": "execute_result"
    }
   ],
   "source": [
    "user_datas = response.json()\n",
    "user_datas"
   ]
  },
  {
   "cell_type": "code",
   "execution_count": null,
   "metadata": {},
   "outputs": [],
   "source": []
  },
  {
   "cell_type": "code",
   "execution_count": null,
   "metadata": {},
   "outputs": [],
   "source": [
    "# 3. Request(Access Token) > Data (메시지 보내기)"
   ]
  },
  {
   "cell_type": "code",
   "execution_count": 19,
   "metadata": {},
   "outputs": [
    {
     "data": {
      "text/plain": [
       "<Response [200]>"
      ]
     },
     "execution_count": 19,
     "metadata": {},
     "output_type": "execute_result"
    }
   ],
   "source": [
    "url = 'https://kapi.kakao.com/v2/user/me'\n",
    "headers = {'Authorization': 'Bearer {}'.format(user_datas['access_token'])}\n",
    "reponse = requests.get(url, headers=headers)\n",
    "response"
   ]
  },
  {
   "cell_type": "code",
   "execution_count": 20,
   "metadata": {},
   "outputs": [
    {
     "data": {
      "text/plain": [
       "'{\"access_token\":\"0OO7BDwNFuBeqp7Dg_G7B8n8flAzkgznN1AePQorDNQAAAF12hDQMA\",\"token_type\":\"bearer\",\"refresh_token\":\"QEzE9fT2gk3mmxt0ZVQ8rLWeV6ViE2msTDqYFgorDNQAAAF12hDQLw\",\"expires_in\":21599,\"scope\":\"talk_message profile\",\"refresh_token_expires_in\":5183999}'"
      ]
     },
     "execution_count": 20,
     "metadata": {},
     "output_type": "execute_result"
    }
   ],
   "source": [
    "response.text"
   ]
  },
  {
   "cell_type": "code",
   "execution_count": 23,
   "metadata": {},
   "outputs": [
    {
     "data": {
      "text/plain": [
       "{'access_token': '0OO7BDwNFuBeqp7Dg_G7B8n8flAzkgznN1AePQorDNQAAAF12hDQMA',\n",
       " 'token_type': 'bearer',\n",
       " 'refresh_token': 'QEzE9fT2gk3mmxt0ZVQ8rLWeV6ViE2msTDqYFgorDNQAAAF12hDQLw',\n",
       " 'expires_in': 21599,\n",
       " 'scope': 'talk_message profile',\n",
       " 'refresh_token_expires_in': 5183999}"
      ]
     },
     "execution_count": 23,
     "metadata": {},
     "output_type": "execute_result"
    }
   ],
   "source": [
    "response.json()"
   ]
  },
  {
   "cell_type": "code",
   "execution_count": 24,
   "metadata": {},
   "outputs": [
    {
     "data": {
      "text/html": [
       "<img src='' width='50px;'\n"
      ],
      "text/plain": [
       "<IPython.core.display.HTML object>"
      ]
     },
     "metadata": {},
     "output_type": "display_data"
    }
   ],
   "source": [
    "%%html\n",
    "<img src='' width='50px;'"
   ]
  },
  {
   "cell_type": "code",
   "execution_count": null,
   "metadata": {},
   "outputs": [],
   "source": []
  },
  {
   "cell_type": "code",
   "execution_count": null,
   "metadata": {},
   "outputs": [],
   "source": []
  },
  {
   "cell_type": "code",
   "execution_count": null,
   "metadata": {},
   "outputs": [],
   "source": []
  },
  {
   "cell_type": "code",
   "execution_count": 25,
   "metadata": {},
   "outputs": [],
   "source": [
    "# 4. 카카오톡 메시지 전송\n",
    "# 템플릿 만들기 > 메시지로 템플릿을 전송"
   ]
  },
  {
   "cell_type": "code",
   "execution_count": 26,
   "metadata": {},
   "outputs": [],
   "source": [
    "# 4-1 텍스트 템플릿(dict) 만들기"
   ]
  },
  {
   "cell_type": "code",
   "execution_count": 29,
   "metadata": {},
   "outputs": [
    {
     "data": {
      "text/plain": [
       "{'object_type': 'text',\n",
       " 'text': '반드시 클릭하세요!!! https://hacking.com',\n",
       " 'link': {'web_url': 'https://fastcampus.co.kr',\n",
       "  'mobile_web_url': 'https://m.fastcampus.co.kr'},\n",
       " 'button_title': '바로바로 확인!!!'}"
      ]
     },
     "execution_count": 29,
     "metadata": {},
     "output_type": "execute_result"
    }
   ],
   "source": [
    "msg = '반드시 클릭하세요!!! https://hacking.com'\n",
    "\n",
    "params = {\n",
    "    'object_type': 'text',\n",
    "    'text': msg,\n",
    "    'link': {\n",
    "        'web_url': 'https://fastcampus.co.kr',\n",
    "        'mobile_web_url': 'https://m.fastcampus.co.kr',\n",
    "    },\n",
    "    'button_title': '바로바로 확인!!!'\n",
    "}\n",
    "\n",
    "params"
   ]
  },
  {
   "cell_type": "code",
   "execution_count": null,
   "metadata": {},
   "outputs": [],
   "source": []
  },
  {
   "cell_type": "code",
   "execution_count": null,
   "metadata": {},
   "outputs": [],
   "source": []
  },
  {
   "cell_type": "code",
   "execution_count": 27,
   "metadata": {},
   "outputs": [],
   "source": [
    "# 4-2 템플릿을 담아 메시지 전송"
   ]
  },
  {
   "cell_type": "code",
   "execution_count": 40,
   "metadata": {},
   "outputs": [],
   "source": [
    "url = 'https://kapi.kakao.com/v2/api/talk/memo/default/send'\n",
    "headers = {\n",
    "    'Content-Type': 'application/x-www-form-urlencoded',\n",
    "    'Authorization': 'Bearer {}'.format(user_datas['access_token'])\n",
    "}"
   ]
  },
  {
   "cell_type": "code",
   "execution_count": 41,
   "metadata": {},
   "outputs": [],
   "source": [
    "import json"
   ]
  },
  {
   "cell_type": "code",
   "execution_count": 42,
   "metadata": {},
   "outputs": [
    {
     "data": {
      "text/plain": [
       "<Response [200]>"
      ]
     },
     "execution_count": 42,
     "metadata": {},
     "output_type": "execute_result"
    }
   ],
   "source": [
    "payload = 'template_object=' + str(json.dumps(params))\n",
    "response = requests.post(url, payload, headers=headers)\n",
    "response"
   ]
  },
  {
   "cell_type": "code",
   "execution_count": 43,
   "metadata": {},
   "outputs": [
    {
     "data": {
      "text/plain": [
       "'{\"result_code\":0}'"
      ]
     },
     "execution_count": 43,
     "metadata": {},
     "output_type": "execute_result"
    }
   ],
   "source": [
    "response.text"
   ]
  },
  {
   "cell_type": "code",
   "execution_count": null,
   "metadata": {},
   "outputs": [],
   "source": []
  }
 ],
 "metadata": {
  "kernelspec": {
   "display_name": "Python 3",
   "language": "python",
   "name": "python3"
  },
  "language_info": {
   "codemirror_mode": {
    "name": "ipython",
    "version": 3
   },
   "file_extension": ".py",
   "mimetype": "text/x-python",
   "name": "python",
   "nbconvert_exporter": "python",
   "pygments_lexer": "ipython3",
   "version": "3.7.6"
  }
 },
 "nbformat": 4,
 "nbformat_minor": 4
}
