{
 "cells": [
  {
   "cell_type": "markdown",
   "metadata": {},
   "source": [
    "### 하나은행 예금 데이터 수집\n",
    "- requests, bs4 패키지를 사용하여 하나은행 예금 데이터를 아래와 같이 수집하세요.\n",
    "    - 상품에 대한 금리는 최고 금리가 출력되도록 하세요.\n",
    "    - items_df : 상품 리스트에 대한 데이터 프레임\n",
    "    - items_detail_df : 상품에 대한 상세 정보를 가지는 데이터 프레임\n",
    "- URL : https://www.kebhana.com/cont/mall/mall08/mall0805/index.jsp?_menuNo=62608"
   ]
  },
  {
   "cell_type": "code",
   "execution_count": 1,
   "metadata": {},
   "outputs": [],
   "source": [
    "import requests\n",
    "from bs4 import BeautifulSoup"
   ]
  },
  {
   "cell_type": "markdown",
   "metadata": {},
   "source": [
    "#### 1. requests 로 html 문자열 가져와서 parsing"
   ]
  },
  {
   "cell_type": "code",
   "execution_count": 1,
   "metadata": {},
   "outputs": [
    {
     "data": {
      "text/plain": [
       "<Response [200]>"
      ]
     },
     "execution_count": 1,
     "metadata": {},
     "output_type": "execute_result"
    }
   ],
   "source": [
    "url = \"https://www.kebhana.com/cont/mall/mall08/mall0805/index.jsp?_menuNo=62608\"\n",
    "response = requests.post(url)\n",
    "response"
   ]
  },
  {
   "cell_type": "code",
   "execution_count": 7,
   "metadata": {},
   "outputs": [
    {
     "data": {
      "text/plain": [
       "15"
      ]
     },
     "execution_count": 7,
     "metadata": {},
     "output_type": "execute_result"
    }
   ],
   "source": [
    "dom = BeautifulSoup(response.content, \"html.parser\")\n",
    "\n",
    "# chrome browser selector 사용\n",
    "elements = dom.select('#contents > div.banking-content > div.banking-row-area > div.wrap-product-list > ul > li')\n",
    "\n",
    "len(elements)"
   ]
  },
  {
   "cell_type": "markdown",
   "metadata": {},
   "source": [
    "#### 2. 상품 상세 데이터 가져오기 1"
   ]
  },
  {
   "cell_type": "code",
   "execution_count": 47,
   "metadata": {},
   "outputs": [],
   "source": [
    "element = elements[1]"
   ]
  },
  {
   "cell_type": "code",
   "execution_count": 48,
   "metadata": {},
   "outputs": [
    {
     "data": {
      "text/plain": [
       "('정기예금',\n",
       " '베스트 인터넷 스마트폰',\n",
       " '하나머니세상 정기예금',\n",
       " '하나멤버스 회원손님이 예금의 이자를 하나머니로 적립동의하면 우대금리 제공! 하나카드사의 1Q카드 결제실적까지 보유하면 예금이자의 세금만큼 하나머니로 돌려드리는 정기예금 상품입니다.',\n",
       " 'https://www.kebhana.com/cont/mall/mall08/mall0801/mall080101/1445172_115126.jsp')"
      ]
     },
     "execution_count": 48,
     "metadata": {},
     "output_type": "execute_result"
    }
   ],
   "source": [
    "# product-title\n",
    "data1 = element.select_one(\".product-tit > i\").text\n",
    "\n",
    "# badge\n",
    "data2 = element.select_one(\".product-tit > .rainbow-color\").text.strip()\\\n",
    ".replace(\"\\r\", \"\").replace(\"\\n\", \"\").replace(\"\\r\", \"\").replace(\"\\t\", \"\").replace(\"\\xa0\", \" \")\n",
    "\n",
    "# title\n",
    "data3 = element.select_one(\".product-tit > em > a\").text\n",
    "\n",
    "# title-desc\n",
    "data4 = element.select_one(\".product-tit > .tit-desc\").text\n",
    "\n",
    "# link\n",
    "data5 = \"https://www.kebhana.com\" +  element.select_one(\".product-tit > em > a\").get(\"href\")\n",
    "\n",
    "data1, data2, data3, data4, data5"
   ]
  },
  {
   "cell_type": "markdown",
   "metadata": {},
   "source": [
    "#### 3. 상품 상세 데이터 가져오기 2"
   ]
  },
  {
   "cell_type": "code",
   "execution_count": 50,
   "metadata": {},
   "outputs": [
    {
     "name": "stdout",
     "output_type": "stream",
     "text": [
      "https://www.kebhana.com/cont/mall/mall08/mall0801/mall080101/1445172_115126.jsp\n"
     ]
    }
   ],
   "source": [
    "link = data5\n",
    "print(link)"
   ]
  },
  {
   "cell_type": "code",
   "execution_count": 51,
   "metadata": {},
   "outputs": [
    {
     "data": {
      "text/plain": [
       "<Response [200]>"
      ]
     },
     "execution_count": 51,
     "metadata": {},
     "output_type": "execute_result"
    }
   ],
   "source": [
    "response = requests.get(link)\n",
    "response"
   ]
  },
  {
   "cell_type": "code",
   "execution_count": 52,
   "metadata": {},
   "outputs": [
    {
     "data": {
      "text/plain": [
       "(14, 14)"
      ]
     },
     "execution_count": 52,
     "metadata": {},
     "output_type": "execute_result"
    }
   ],
   "source": [
    "dom = BeautifulSoup(response.content, \"html.parser\")\n",
    "title_elements = dom.select(\".prodcutInfo > dt\") \n",
    "desc_elements = dom.select(\".prodcutInfo > dd\")\n",
    "\n",
    "len(title_elements), len(desc_elements)"
   ]
  },
  {
   "cell_type": "code",
   "execution_count": 53,
   "metadata": {},
   "outputs": [
    {
     "data": {
      "text/plain": [
       "('상품특징',\n",
       " '하나멤버스 회원손님이 예금의 이자를 하나머니로 적립동의하면 우대금리 제공! 하나카드사의 1Q카드 결제실적까지 보유하면 예금이자의 세금만큼 하나머니로 돌려드리는 정기예금 상품입니다.')"
      ]
     },
     "execution_count": 53,
     "metadata": {},
     "output_type": "execute_result"
    }
   ],
   "source": [
    "title_elements[0].text, desc_elements[0].text"
   ]
  },
  {
   "cell_type": "code",
   "execution_count": 54,
   "metadata": {},
   "outputs": [
    {
     "data": {
      "text/plain": [
       "('금리', '금리안내')"
      ]
     },
     "execution_count": 54,
     "metadata": {},
     "output_type": "execute_result"
    }
   ],
   "source": [
    "# 금리 데이터가 없고 자바스크립트 코드가 있음 : iframe에서 데이터를 가져와서 보여줌\n",
    "title_elements[6].text, desc_elements[6].text.strip()"
   ]
  },
  {
   "cell_type": "code",
   "execution_count": 55,
   "metadata": {},
   "outputs": [
    {
     "name": "stdout",
     "output_type": "stream",
     "text": [
      "https://www.kebhana.com/app/portal/mkt/contents/rate_p02_01.do?actionCode=02&subMenu=03&RateIrdCd=0703000200019&pageYn=Y\n"
     ]
    }
   ],
   "source": [
    "# iframe url을 가져와서 request\n",
    "i_url = \"https://www.kebhana.com\" + desc_elements[6].select_one(\"#zff\").get(\"src\")\n",
    "print(i_url)"
   ]
  },
  {
   "cell_type": "code",
   "execution_count": 56,
   "metadata": {},
   "outputs": [
    {
     "data": {
      "text/plain": [
       "<Response [200]>"
      ]
     },
     "execution_count": 56,
     "metadata": {},
     "output_type": "execute_result"
    }
   ],
   "source": [
    "response = requests.get(i_url)\n",
    "response"
   ]
  },
  {
   "cell_type": "code",
   "execution_count": 57,
   "metadata": {},
   "outputs": [
    {
     "data": {
      "text/plain": [
       "[0.2, 0.4]"
      ]
     },
     "execution_count": 57,
     "metadata": {},
     "output_type": "execute_result"
    }
   ],
   "source": [
    "# 정규표현식으로 이자율 데이터를 모두 가져옴\n",
    "numbers = [float(data) for data in re.findall(\">([0-9]{1,2}\\.?[0-9]{0,2})%\", response.text)]\n",
    "numbers"
   ]
  },
  {
   "cell_type": "code",
   "execution_count": 59,
   "metadata": {},
   "outputs": [
    {
     "data": {
      "text/plain": [
       "(0.2, 0.4)"
      ]
     },
     "execution_count": 59,
     "metadata": {},
     "output_type": "execute_result"
    }
   ],
   "source": [
    "# 최소값, 최대값\n",
    "np.min(numbers), np.max(numbers)"
   ]
  },
  {
   "cell_type": "markdown",
   "metadata": {},
   "source": [
    "#### 4. 함수로 만들기"
   ]
  },
  {
   "cell_type": "code",
   "execution_count": 60,
   "metadata": {},
   "outputs": [],
   "source": [
    "# 예금 데이터 수집 함수\n",
    "def get_list():\n",
    "    url = \"https://www.kebhana.com/cont/mall/mall08/mall0805/index.jsp?_menuNo=62608\"\n",
    "    params = {\n",
    "        \"catId\": \"spb_2811\",\n",
    "        \"startCount\": \"0\",\n",
    "        \"sort\": \"search_order/DESC\",\n",
    "        \"collection\": \"pro_product\",\n",
    "        \"range\": \"A\",\n",
    "        \"searchField\": \"ALL\",\n",
    "        \"tabStatus\": \"1\",    \n",
    "    }\n",
    "\n",
    "    response = requests.post(url)\n",
    "    dom = BeautifulSoup(response.content, \"html.parser\")\n",
    "    \n",
    "    elements = dom.select('#contents > div.banking-content > div.banking-row-area > div.wrap-product-list > ul > li')\n",
    "\n",
    "    datas = []\n",
    "    for element in elements:\n",
    "        datas.append({\n",
    "            \"product-title\": element.select_one(\".product-tit > i\"),\n",
    "            \"badge\": element.select_one(\".product-tit > .rainbow-color\").text.strip().replace(\"\\r\", \"\").replace(\"\\n\", \"\").replace(\"\\r\", \"\").replace(\"\\t\", \"\"),\n",
    "            \"title\": element.select_one(\".product-tit > em > a\").text,\n",
    "            \"title-desc\": element.select_one(\".product-tit > .tit-desc\").text,\n",
    "            \"link\": \"https://www.kebhana.com\" +  element.select_one(\".product-tit > em > a\").get(\"href\"),\n",
    "        })\n",
    "        \n",
    "    return pd.DataFrame(datas)"
   ]
  },
  {
   "cell_type": "code",
   "execution_count": 61,
   "metadata": {},
   "outputs": [],
   "source": [
    "def detail_datas(d_link, idx):\n",
    "    response = requests.get(d_link)\n",
    "    dom = BeautifulSoup(response.content, \"html.parser\")\n",
    "    title_elements = dom.select(\".prodcutInfo > dt\") \n",
    "    desc_elements = dom.select(\".prodcutInfo > dd\")\n",
    "    \n",
    "    datas = []\n",
    "    for title, desc in zip(title_elements, desc_elements):\n",
    "\n",
    "        title_txt = title.text\n",
    "        \n",
    "        # 제목이 금리이면 iframe url로 데이터 가져옴\n",
    "        if title_txt == \"금리\":\n",
    "            i_url = \"https://www.kebhana.com\" + desc.select_one(\"#zff\").get(\"src\")\n",
    "            response = requests.get(i_url)\n",
    "            desc_txt = BeautifulSoup(response.text, \"html.parser\").text.strip().replace(\"\\n\", \"\")\n",
    "            numbers = [float(data) for data in re.findall(\"([0-9]{1,2}\\.?[0-9]{0,2})%\", desc_txt)]\n",
    "            desc_txt = np.max(numbers)\n",
    "            \n",
    "        # 그외에는 그냥 text 데이터 가져옴    \n",
    "        else:\n",
    "            desc_txt = desc.text.strip().replace(\"\\n\", \"\").replace(\"\\r\", \"\").replace(\"\\t\", \"\").replace(\"\\xa0\", \" \")\n",
    "            \n",
    "        datas.append({\n",
    "            \"product_idx\": idx,     # 상품 index 값\n",
    "            \"title_txt\": title_txt, # 상품명\n",
    "            \"desc_txt\": desc_txt,   # 최고 금리\n",
    "        })\n",
    "        \n",
    "    return pd.DataFrame(datas)"
   ]
  },
  {
   "cell_type": "markdown",
   "metadata": {},
   "source": [
    "#### 5. 함수실행"
   ]
  },
  {
   "cell_type": "code",
   "execution_count": 62,
   "metadata": {},
   "outputs": [
    {
     "data": {
      "text/html": [
       "<div>\n",
       "<style scoped>\n",
       "    .dataframe tbody tr th:only-of-type {\n",
       "        vertical-align: middle;\n",
       "    }\n",
       "\n",
       "    .dataframe tbody tr th {\n",
       "        vertical-align: top;\n",
       "    }\n",
       "\n",
       "    .dataframe thead th {\n",
       "        text-align: right;\n",
       "    }\n",
       "</style>\n",
       "<table border=\"1\" class=\"dataframe\">\n",
       "  <thead>\n",
       "    <tr style=\"text-align: right;\">\n",
       "      <th></th>\n",
       "      <th>product-title</th>\n",
       "      <th>badge</th>\n",
       "      <th>title</th>\n",
       "      <th>title-desc</th>\n",
       "      <th>link</th>\n",
       "    </tr>\n",
       "  </thead>\n",
       "  <tbody>\n",
       "    <tr>\n",
       "      <th>13</th>\n",
       "      <td>[정기예금]</td>\n",
       "      <td></td>\n",
       "      <td>표지어음</td>\n",
       "      <td>은행이 보유하고 있는 원어음(상업어음 또는 무역어음)을 근거로 발행하는 배서양도가 ...</td>\n",
       "      <td>https://www.kebhana.com/cont/mall/mall08/mall0...</td>\n",
       "    </tr>\n",
       "    <tr>\n",
       "      <th>14</th>\n",
       "      <td>[정기예금]</td>\n",
       "      <td></td>\n",
       "      <td>1년 연동형 정기예금</td>\n",
       "      <td>서울보증보험의 보증서 발급 담보용 정기예금</td>\n",
       "      <td>https://www.kebhana.com/cont/mall/mall08/mall0...</td>\n",
       "    </tr>\n",
       "  </tbody>\n",
       "</table>\n",
       "</div>"
      ],
      "text/plain": [
       "   product-title badge        title  \\\n",
       "13        [정기예금]               표지어음   \n",
       "14        [정기예금]        1년 연동형 정기예금   \n",
       "\n",
       "                                           title-desc  \\\n",
       "13  은행이 보유하고 있는 원어음(상업어음 또는 무역어음)을 근거로 발행하는 배서양도가 ...   \n",
       "14                            서울보증보험의 보증서 발급 담보용 정기예금   \n",
       "\n",
       "                                                 link  \n",
       "13  https://www.kebhana.com/cont/mall/mall08/mall0...  \n",
       "14  https://www.kebhana.com/cont/mall/mall08/mall0...  "
      ]
     },
     "execution_count": 62,
     "metadata": {},
     "output_type": "execute_result"
    }
   ],
   "source": [
    "# 상세 데이터 가져오기 1\n",
    "items_df = get_list()\n",
    "items_df.tail(2)"
   ]
  },
  {
   "cell_type": "code",
   "execution_count": 64,
   "metadata": {},
   "outputs": [
    {
     "name": "stdout",
     "output_type": "stream",
     "text": [
      "0 1 2 3 4 5 6 7 8 9 10 11 12 13 14 "
     ]
    }
   ],
   "source": [
    "# 상세 데이터 가져오기 2\n",
    "dfs = []\n",
    "for idx, data in items_df.iterrows():\n",
    "    print(idx, end=\" \")\n",
    "    dfs.append(detail_datas(data.link, idx))"
   ]
  },
  {
   "cell_type": "code",
   "execution_count": 65,
   "metadata": {},
   "outputs": [],
   "source": [
    "# 데이터 프레임 합치기\n",
    "item_details_df = pd.concat(dfs)\n",
    "item_details_df.reset_index(drop=True, inplace=True)"
   ]
  },
  {
   "cell_type": "code",
   "execution_count": 67,
   "metadata": {},
   "outputs": [
    {
     "data": {
      "text/html": [
       "<div>\n",
       "<style scoped>\n",
       "    .dataframe tbody tr th:only-of-type {\n",
       "        vertical-align: middle;\n",
       "    }\n",
       "\n",
       "    .dataframe tbody tr th {\n",
       "        vertical-align: top;\n",
       "    }\n",
       "\n",
       "    .dataframe thead th {\n",
       "        text-align: right;\n",
       "    }\n",
       "</style>\n",
       "<table border=\"1\" class=\"dataframe\">\n",
       "  <thead>\n",
       "    <tr style=\"text-align: right;\">\n",
       "      <th></th>\n",
       "      <th>product-title</th>\n",
       "      <th>badge</th>\n",
       "      <th>title</th>\n",
       "      <th>title-desc</th>\n",
       "      <th>link</th>\n",
       "    </tr>\n",
       "  </thead>\n",
       "  <tbody>\n",
       "    <tr>\n",
       "      <th>0</th>\n",
       "      <td>[정기예금]</td>\n",
       "      <td>베스트 신상품 스마트폰</td>\n",
       "      <td>하나 원큐 정기예금</td>\n",
       "      <td>간편하게 우대금리를 제공하는 스마트폰 예금</td>\n",
       "      <td>https://www.kebhana.com/cont/mall/mall08/mall0...</td>\n",
       "    </tr>\n",
       "    <tr>\n",
       "      <th>1</th>\n",
       "      <td>[정기예금]</td>\n",
       "      <td>베스트 인터넷 스마트폰</td>\n",
       "      <td>하나머니세상 정기예금</td>\n",
       "      <td>하나멤버스 회원손님이 예금의 이자를 하나머니로 적립동의하면 우대금리 제공! 하나카드...</td>\n",
       "      <td>https://www.kebhana.com/cont/mall/mall08/mall0...</td>\n",
       "    </tr>\n",
       "  </tbody>\n",
       "</table>\n",
       "</div>"
      ],
      "text/plain": [
       "  product-title         badge        title  \\\n",
       "0        [정기예금]  베스트 신상품 스마트폰   하나 원큐 정기예금   \n",
       "1        [정기예금]  베스트 인터넷 스마트폰  하나머니세상 정기예금   \n",
       "\n",
       "                                          title-desc  \\\n",
       "0                            간편하게 우대금리를 제공하는 스마트폰 예금   \n",
       "1  하나멤버스 회원손님이 예금의 이자를 하나머니로 적립동의하면 우대금리 제공! 하나카드...   \n",
       "\n",
       "                                                link  \n",
       "0  https://www.kebhana.com/cont/mall/mall08/mall0...  \n",
       "1  https://www.kebhana.com/cont/mall/mall08/mall0...  "
      ]
     },
     "execution_count": 67,
     "metadata": {},
     "output_type": "execute_result"
    }
   ],
   "source": [
    "items_df.head(2)"
   ]
  },
  {
   "cell_type": "code",
   "execution_count": 68,
   "metadata": {},
   "outputs": [
    {
     "data": {
      "text/html": [
       "<div>\n",
       "<style scoped>\n",
       "    .dataframe tbody tr th:only-of-type {\n",
       "        vertical-align: middle;\n",
       "    }\n",
       "\n",
       "    .dataframe tbody tr th {\n",
       "        vertical-align: top;\n",
       "    }\n",
       "\n",
       "    .dataframe thead th {\n",
       "        text-align: right;\n",
       "    }\n",
       "</style>\n",
       "<table border=\"1\" class=\"dataframe\">\n",
       "  <thead>\n",
       "    <tr style=\"text-align: right;\">\n",
       "      <th></th>\n",
       "      <th>product_idx</th>\n",
       "      <th>title_txt</th>\n",
       "      <th>desc_txt</th>\n",
       "    </tr>\n",
       "  </thead>\n",
       "  <tbody>\n",
       "    <tr>\n",
       "      <th>0</th>\n",
       "      <td>0</td>\n",
       "      <td>상품특징</td>\n",
       "      <td>(스마트폰 전용 예금) 마케팅동의와 하나오픈뱅킹 서비스를 통하여 상품 신규 시 우대...</td>\n",
       "    </tr>\n",
       "    <tr>\n",
       "      <th>1</th>\n",
       "      <td>0</td>\n",
       "      <td>가입대상</td>\n",
       "      <td>실명의 개인 및 개인사업자</td>\n",
       "    </tr>\n",
       "    <tr>\n",
       "      <th>2</th>\n",
       "      <td>0</td>\n",
       "      <td>예금종류</td>\n",
       "      <td>정기예금</td>\n",
       "    </tr>\n",
       "    <tr>\n",
       "      <th>3</th>\n",
       "      <td>0</td>\n",
       "      <td>가입기간</td>\n",
       "      <td>1년</td>\n",
       "    </tr>\n",
       "    <tr>\n",
       "      <th>4</th>\n",
       "      <td>0</td>\n",
       "      <td>가입금액</td>\n",
       "      <td>1백만원 이상 ~ 3천만원 이내 (단, 오픈뱅킹 1일 이체한도는 1천만원)</td>\n",
       "    </tr>\n",
       "    <tr>\n",
       "      <th>5</th>\n",
       "      <td>0</td>\n",
       "      <td>이자지급방법</td>\n",
       "      <td>만기일시지급식</td>\n",
       "    </tr>\n",
       "    <tr>\n",
       "      <th>6</th>\n",
       "      <td>0</td>\n",
       "      <td>금리</td>\n",
       "      <td>0.8</td>\n",
       "    </tr>\n",
       "    <tr>\n",
       "      <th>7</th>\n",
       "      <td>0</td>\n",
       "      <td>우대금리</td>\n",
       "      <td>최대 연 0.2% (2019.12.18 기준, 세전)이 예금의 가입자가 아래 항목을...</td>\n",
       "    </tr>\n",
       "    <tr>\n",
       "      <th>8</th>\n",
       "      <td>0</td>\n",
       "      <td>특별금리</td>\n",
       "      <td>이 예금 가입시 하나오픈뱅킹서비스 출금이체(다른은행 계좌)로 신규한 경우 0.2%추...</td>\n",
       "    </tr>\n",
       "    <tr>\n",
       "      <th>9</th>\n",
       "      <td>0</td>\n",
       "      <td>상품내용변경에 관한사항</td>\n",
       "      <td>변경사항상품내용 변경에  관한 사항  (2020.07.01 변경) &lt;중도해지금리변경...</td>\n",
       "    </tr>\n",
       "    <tr>\n",
       "      <th>10</th>\n",
       "      <td>0</td>\n",
       "      <td>분할해지(인출)</td>\n",
       "      <td>가입기간 중 만기해지 포함 총 3회 가능최저 가입금액 1백만원 이상 유지분할해지 시...</td>\n",
       "    </tr>\n",
       "    <tr>\n",
       "      <th>11</th>\n",
       "      <td>0</td>\n",
       "      <td>절세혜택</td>\n",
       "      <td>비과세 종합저축 가능(전 금융기관 통합한도 범위 내)※ 2015년 1월 1일 부터 ...</td>\n",
       "    </tr>\n",
       "    <tr>\n",
       "      <th>12</th>\n",
       "      <td>0</td>\n",
       "      <td>해지안내</td>\n",
       "      <td>스마트폰뱅킹(또는 인터넷뱅킹)을 통하여 중도해지 하는 경우 콜센터를 통한 본인확인 ...</td>\n",
       "    </tr>\n",
       "    <tr>\n",
       "      <th>13</th>\n",
       "      <td>0</td>\n",
       "      <td>예금자 보호</td>\n",
       "      <td>이 예금은 예금자보호법에 따라 예금보험공사가 보호하되, 보호한도는 본 은행에 있는 ...</td>\n",
       "    </tr>\n",
       "    <tr>\n",
       "      <th>14</th>\n",
       "      <td>1</td>\n",
       "      <td>상품특징</td>\n",
       "      <td>하나멤버스 회원손님이 예금의 이자를 하나머니로 적립동의하면 우대금리 제공! 하나카드...</td>\n",
       "    </tr>\n",
       "    <tr>\n",
       "      <th>15</th>\n",
       "      <td>1</td>\n",
       "      <td>가입대상</td>\n",
       "      <td>만 14세이상 실명의 개인 또는 개인사업자 (1인 1계좌)</td>\n",
       "    </tr>\n",
       "    <tr>\n",
       "      <th>16</th>\n",
       "      <td>1</td>\n",
       "      <td>예금종류</td>\n",
       "      <td>정기예금</td>\n",
       "    </tr>\n",
       "    <tr>\n",
       "      <th>17</th>\n",
       "      <td>1</td>\n",
       "      <td>가입기간</td>\n",
       "      <td>6개월, 12개월</td>\n",
       "    </tr>\n",
       "    <tr>\n",
       "      <th>18</th>\n",
       "      <td>1</td>\n",
       "      <td>가입금액</td>\n",
       "      <td>1백만원 이상 1천만원 이하 (1인 최대 가입 한도 1천만원)</td>\n",
       "    </tr>\n",
       "    <tr>\n",
       "      <th>19</th>\n",
       "      <td>1</td>\n",
       "      <td>이자지급방법</td>\n",
       "      <td>만기일시지급식(6개월), 월이자지급식(12개월)</td>\n",
       "    </tr>\n",
       "  </tbody>\n",
       "</table>\n",
       "</div>"
      ],
      "text/plain": [
       "    product_idx     title_txt  \\\n",
       "0             0          상품특징   \n",
       "1             0          가입대상   \n",
       "2             0          예금종류   \n",
       "3             0          가입기간   \n",
       "4             0          가입금액   \n",
       "5             0        이자지급방법   \n",
       "6             0            금리   \n",
       "7             0          우대금리   \n",
       "8             0          특별금리   \n",
       "9             0  상품내용변경에 관한사항   \n",
       "10            0      분할해지(인출)   \n",
       "11            0          절세혜택   \n",
       "12            0          해지안내   \n",
       "13            0        예금자 보호   \n",
       "14            1          상품특징   \n",
       "15            1          가입대상   \n",
       "16            1          예금종류   \n",
       "17            1          가입기간   \n",
       "18            1          가입금액   \n",
       "19            1        이자지급방법   \n",
       "\n",
       "                                             desc_txt  \n",
       "0   (스마트폰 전용 예금) 마케팅동의와 하나오픈뱅킹 서비스를 통하여 상품 신규 시 우대...  \n",
       "1                                      실명의 개인 및 개인사업자  \n",
       "2                                                정기예금  \n",
       "3                                                  1년  \n",
       "4           1백만원 이상 ~ 3천만원 이내 (단, 오픈뱅킹 1일 이체한도는 1천만원)  \n",
       "5                                             만기일시지급식  \n",
       "6                                                 0.8  \n",
       "7   최대 연 0.2% (2019.12.18 기준, 세전)이 예금의 가입자가 아래 항목을...  \n",
       "8   이 예금 가입시 하나오픈뱅킹서비스 출금이체(다른은행 계좌)로 신규한 경우 0.2%추...  \n",
       "9   변경사항상품내용 변경에  관한 사항  (2020.07.01 변경) <중도해지금리변경...  \n",
       "10  가입기간 중 만기해지 포함 총 3회 가능최저 가입금액 1백만원 이상 유지분할해지 시...  \n",
       "11  비과세 종합저축 가능(전 금융기관 통합한도 범위 내)※ 2015년 1월 1일 부터 ...  \n",
       "12  스마트폰뱅킹(또는 인터넷뱅킹)을 통하여 중도해지 하는 경우 콜센터를 통한 본인확인 ...  \n",
       "13  이 예금은 예금자보호법에 따라 예금보험공사가 보호하되, 보호한도는 본 은행에 있는 ...  \n",
       "14  하나멤버스 회원손님이 예금의 이자를 하나머니로 적립동의하면 우대금리 제공! 하나카드...  \n",
       "15                   만 14세이상 실명의 개인 또는 개인사업자 (1인 1계좌)  \n",
       "16                                               정기예금  \n",
       "17                                          6개월, 12개월  \n",
       "18                 1백만원 이상 1천만원 이하 (1인 최대 가입 한도 1천만원)  \n",
       "19                         만기일시지급식(6개월), 월이자지급식(12개월)  "
      ]
     },
     "execution_count": 68,
     "metadata": {},
     "output_type": "execute_result"
    }
   ],
   "source": [
    "item_details_df[:20]"
   ]
  },
  {
   "cell_type": "code",
   "execution_count": 69,
   "metadata": {},
   "outputs": [
    {
     "data": {
      "text/html": [
       "<div>\n",
       "<style scoped>\n",
       "    .dataframe tbody tr th:only-of-type {\n",
       "        vertical-align: middle;\n",
       "    }\n",
       "\n",
       "    .dataframe tbody tr th {\n",
       "        vertical-align: top;\n",
       "    }\n",
       "\n",
       "    .dataframe thead th {\n",
       "        text-align: right;\n",
       "    }\n",
       "</style>\n",
       "<table border=\"1\" class=\"dataframe\">\n",
       "  <thead>\n",
       "    <tr style=\"text-align: right;\">\n",
       "      <th></th>\n",
       "      <th>product_idx</th>\n",
       "      <th>title_txt</th>\n",
       "      <th>desc_txt</th>\n",
       "    </tr>\n",
       "  </thead>\n",
       "  <tbody>\n",
       "    <tr>\n",
       "      <th>6</th>\n",
       "      <td>0</td>\n",
       "      <td>금리</td>\n",
       "      <td>0.8</td>\n",
       "    </tr>\n",
       "    <tr>\n",
       "      <th>20</th>\n",
       "      <td>1</td>\n",
       "      <td>금리</td>\n",
       "      <td>0.4</td>\n",
       "    </tr>\n",
       "    <tr>\n",
       "      <th>34</th>\n",
       "      <td>2</td>\n",
       "      <td>금리</td>\n",
       "      <td>0.75</td>\n",
       "    </tr>\n",
       "    <tr>\n",
       "      <th>48</th>\n",
       "      <td>3</td>\n",
       "      <td>금리</td>\n",
       "      <td>0.75</td>\n",
       "    </tr>\n",
       "    <tr>\n",
       "      <th>60</th>\n",
       "      <td>4</td>\n",
       "      <td>금리</td>\n",
       "      <td>0.5</td>\n",
       "    </tr>\n",
       "    <tr>\n",
       "      <th>73</th>\n",
       "      <td>5</td>\n",
       "      <td>금리</td>\n",
       "      <td>0.65</td>\n",
       "    </tr>\n",
       "    <tr>\n",
       "      <th>85</th>\n",
       "      <td>6</td>\n",
       "      <td>금리</td>\n",
       "      <td>1</td>\n",
       "    </tr>\n",
       "    <tr>\n",
       "      <th>98</th>\n",
       "      <td>7</td>\n",
       "      <td>금리</td>\n",
       "      <td>0.75</td>\n",
       "    </tr>\n",
       "    <tr>\n",
       "      <th>110</th>\n",
       "      <td>8</td>\n",
       "      <td>금리</td>\n",
       "      <td>0.6</td>\n",
       "    </tr>\n",
       "    <tr>\n",
       "      <th>122</th>\n",
       "      <td>9</td>\n",
       "      <td>금리</td>\n",
       "      <td>0.85</td>\n",
       "    </tr>\n",
       "    <tr>\n",
       "      <th>134</th>\n",
       "      <td>10</td>\n",
       "      <td>금리</td>\n",
       "      <td>0.8</td>\n",
       "    </tr>\n",
       "    <tr>\n",
       "      <th>144</th>\n",
       "      <td>11</td>\n",
       "      <td>금리</td>\n",
       "      <td>0.58</td>\n",
       "    </tr>\n",
       "    <tr>\n",
       "      <th>154</th>\n",
       "      <td>12</td>\n",
       "      <td>금리</td>\n",
       "      <td>0.7</td>\n",
       "    </tr>\n",
       "    <tr>\n",
       "      <th>163</th>\n",
       "      <td>13</td>\n",
       "      <td>금리</td>\n",
       "      <td>0.5</td>\n",
       "    </tr>\n",
       "    <tr>\n",
       "      <th>172</th>\n",
       "      <td>14</td>\n",
       "      <td>금리</td>\n",
       "      <td>0.55</td>\n",
       "    </tr>\n",
       "  </tbody>\n",
       "</table>\n",
       "</div>"
      ],
      "text/plain": [
       "     product_idx title_txt desc_txt\n",
       "6              0        금리      0.8\n",
       "20             1        금리      0.4\n",
       "34             2        금리     0.75\n",
       "48             3        금리     0.75\n",
       "60             4        금리      0.5\n",
       "73             5        금리     0.65\n",
       "85             6        금리        1\n",
       "98             7        금리     0.75\n",
       "110            8        금리      0.6\n",
       "122            9        금리     0.85\n",
       "134           10        금리      0.8\n",
       "144           11        금리     0.58\n",
       "154           12        금리      0.7\n",
       "163           13        금리      0.5\n",
       "172           14        금리     0.55"
      ]
     },
     "execution_count": 69,
     "metadata": {},
     "output_type": "execute_result"
    }
   ],
   "source": [
    "# 상품별 최고 금리\n",
    "item_details_df[item_details_df[\"title_txt\"] == \"금리\"]"
   ]
  }
 ],
 "metadata": {
  "kernelspec": {
   "display_name": "Python 3",
   "language": "python",
   "name": "python3"
  },
  "language_info": {
   "codemirror_mode": {
    "name": "ipython",
    "version": 3
   },
   "file_extension": ".py",
   "mimetype": "text/x-python",
   "name": "python",
   "nbconvert_exporter": "python",
   "pygments_lexer": "ipython3",
   "version": "3.7.6"
  }
 },
 "nbformat": 4,
 "nbformat_minor": 4
}
