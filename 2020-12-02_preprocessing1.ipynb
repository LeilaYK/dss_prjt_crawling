{
 "cells": [
  {
   "cell_type": "code",
   "execution_count": 178,
   "metadata": {},
   "outputs": [],
   "source": [
    "# 참고\n",
    "\n",
    "# https://emilkwak.github.io/pandas-dataframe-settingwithcopywarning\n",
    "# https://yganalyst.github.io/data_handling/Pd_11/"
   ]
  },
  {
   "cell_type": "code",
   "execution_count": 109,
   "metadata": {},
   "outputs": [],
   "source": [
    "# df 가져오기\n",
    "\n",
    "import pandas as pd\n",
    "naver = pd.read_csv('./data/naver.csv')\n",
    "bluer = pd.read_csv('./data/bluer.csv')\n",
    "mango = pd.read_csv('./data/mango.csv')\n",
    "dining = pd.read_csv('./data/dining.csv')\n",
    "menu = pd.read_csv('./data/menu.csv')"
   ]
  },
  {
   "cell_type": "code",
   "execution_count": 110,
   "metadata": {},
   "outputs": [],
   "source": [
    "# 고유값인 'id'로 중복값 제거\n",
    "\n",
    "naver = naver.drop_duplicates(['id'])\n",
    "bluer = bluer.drop_duplicates(['id'])\n",
    "dining = dining.drop_duplicates(['id'])"
   ]
  },
  {
   "cell_type": "code",
   "execution_count": 111,
   "metadata": {},
   "outputs": [],
   "source": [
    "# 필요 없는 컬럼 제거\n",
    "\n",
    "# print('naver: ',list(naver.columns))\n",
    "# print('bluer: ',list(bluer.columns))\n",
    "# print('mango: ',list(mango.columns))\n",
    "# print('dining: ',list(dining.columns))\n",
    "# print('menu: ',list(menu.columns))\n",
    "\n",
    "naver.drop(naver.columns[:4], axis='columns', inplace=True)\n",
    "naver.drop(['reviewcount'], axis='columns', inplace=True)\n",
    "bluer.drop(bluer.columns[:3], axis='columns', inplace=True)\n",
    "mango.drop(['review_count'], axis='columns', inplace=True)\n",
    "dining.drop(dining.columns[0], axis='columns', inplace=True)\n",
    "dining.drop(['id', 'review_count', 'star', 'zzim'], axis='columns', inplace=True)\n",
    "menu.drop(['link'], axis='columns', inplace=True)\n",
    "\n",
    "# print('naver: ',list(naver.columns))\n",
    "# print('bluer: ',list(bluer.columns))\n",
    "# print('mango: ',list(mango.columns))\n",
    "# print('dining: ',list(dining.columns))\n",
    "# print('menu: ',list(menu.columns))"
   ]
  },
  {
   "cell_type": "code",
   "execution_count": 112,
   "metadata": {},
   "outputs": [],
   "source": [
    "# 컬럼명 통합\n",
    "\n",
    "naver = naver.rename({'rating':'n_rating','thumbnail':'img'}, axis=1)\n",
    "bluer = bluer.rename({'ribbonType':'b_rating'}, axis=1)\n",
    "mango = mango.rename({'cusine_code':'category', 'rating':'mg_rating', 'thumbnail':'img'}, axis=1)\n",
    "dining = dining.rename({'address':'addr', 'score':'d_rating'}, axis=1)\n",
    "menu = menu.rename({'address':'addr', 'rating':'mn_rating', 'rest_type':'category'}, axis=1)"
   ]
  },
  {
   "cell_type": "code",
   "execution_count": 115,
   "metadata": {},
   "outputs": [],
   "source": [
    "# df 합치기\n",
    "\n",
    "df = naver.append([bluer, mango, dining, menu])\n",
    "df['si'] = ''\n",
    "df['gu'] = ''\n",
    "df = df[['name', 'tel', 'addr', 'si', 'gu', 'dong', 'category', 'menu', 'bizhour', 'n_rating', 'b_rating', 'mg_rating', 'd_rating', 'mn_rating',\n",
    "'context', 'microreview', 'priceRange', 'lng', 'lat', 'img']]\n",
    "df.reset_index(drop=True, inplace=True)"
   ]
  },
  {
   "cell_type": "code",
   "execution_count": 150,
   "metadata": {},
   "outputs": [],
   "source": [
    "# si, gu 컬럼 채우기\n",
    "\n",
    "edit = df['addr'].str.split(' ', expand=True)\n",
    "df['si'] = edit[0]\n",
    "df['gu'] = edit[1]\n",
    "df['dong'] = edit[2]"
   ]
  },
  {
   "cell_type": "code",
   "execution_count": 171,
   "metadata": {},
   "outputs": [
    {
     "name": "stderr",
     "output_type": "stream",
     "text": [
      "C:\\Users\\USER\\anaconda3\\lib\\site-packages\\ipykernel_launcher.py:4: SettingWithCopyWarning: \n",
      "A value is trying to be set on a copy of a slice from a DataFrame.\n",
      "Try using .loc[row_indexer,col_indexer] = value instead\n",
      "\n",
      "See the caveats in the documentation: https://pandas.pydata.org/pandas-docs/stable/user_guide/indexing.html#returning-a-view-versus-a-copy\n",
      "  after removing the cwd from sys.path.\n"
     ]
    }
   ],
   "source": [
    "# si, gu, dong 전처리\n",
    "\n",
    "seoul = df.si.str.startswith('서울', na=False)\n",
    "df = df[seoul]\n",
    "df['si'] = '서울특별시'"
   ]
  },
  {
   "cell_type": "code",
   "execution_count": 175,
   "metadata": {},
   "outputs": [
    {
     "name": "stderr",
     "output_type": "stream",
     "text": [
      "C:\\Users\\USER\\anaconda3\\lib\\site-packages\\ipykernel_launcher.py:1: SettingWithCopyWarning: \n",
      "A value is trying to be set on a copy of a slice from a DataFrame.\n",
      "Try using .loc[row_indexer,col_indexer] = value instead\n",
      "\n",
      "See the caveats in the documentation: https://pandas.pydata.org/pandas-docs/stable/user_guide/indexing.html#returning-a-view-versus-a-copy\n",
      "  \"\"\"Entry point for launching an IPython kernel.\n"
     ]
    }
   ],
   "source": [
    "df['edit'] = df['dong'] + df['tel']"
   ]
  },
  {
   "cell_type": "code",
   "execution_count": 177,
   "metadata": {},
   "outputs": [],
   "source": []
  },
  {
   "cell_type": "code",
   "execution_count": 176,
   "metadata": {},
   "outputs": [
    {
     "data": {
      "text/plain": [
       "0          당주동02-310-9636\n",
       "1        체부동010-8706-3392\n",
       "2          내자동02-735-2608\n",
       "3        체부동010-9160-4482\n",
       "4          당주동02-730-7090\n",
       "               ...       \n",
       "47759      성북동02-762-3342\n",
       "47760      논현동02-544-6336\n",
       "47761      청담동02-544-9234\n",
       "47766      서교동02-334-6570\n",
       "47772      합정동02-332-8333\n",
       "Name: edit, Length: 39162, dtype: object"
      ]
     },
     "execution_count": 176,
     "metadata": {},
     "output_type": "execute_result"
    }
   ],
   "source": [
    "df['edit']"
   ]
  },
  {
   "cell_type": "code",
   "execution_count": 174,
   "metadata": {},
   "outputs": [],
   "source": [
    "df.to_excel('./df.xlsx')"
   ]
  },
  {
   "cell_type": "code",
   "execution_count": 149,
   "metadata": {},
   "outputs": [
    {
     "name": "stdout",
     "output_type": "stream",
     "text": [
      "<class 'pandas.core.frame.DataFrame'>\n",
      "RangeIndex: 47774 entries, 0 to 47773\n",
      "Data columns (total 20 columns):\n",
      " #   Column       Non-Null Count  Dtype  \n",
      "---  ------       --------------  -----  \n",
      " 0   name         47774 non-null  object \n",
      " 1   tel          46845 non-null  object \n",
      " 2   addr         47751 non-null  object \n",
      " 3   si           47751 non-null  object \n",
      " 4   gu           47745 non-null  object \n",
      " 5   dong         47743 non-null  object \n",
      " 6   category     36412 non-null  object \n",
      " 7   menu         25773 non-null  object \n",
      " 8   bizhour      11027 non-null  object \n",
      " 9   n_rating     10446 non-null  object \n",
      " 10  b_rating     4113 non-null   object \n",
      " 11  mg_rating    20862 non-null  float64\n",
      " 12  d_rating     11361 non-null  object \n",
      " 13  mn_rating    992 non-null    float64\n",
      " 14  context      10446 non-null  object \n",
      " 15  microreview  10446 non-null  object \n",
      " 16  priceRange   4113 non-null   object \n",
      " 17  lng          36413 non-null  float64\n",
      " 18  lat          36413 non-null  float64\n",
      " 19  img          32059 non-null  object \n",
      "dtypes: float64(4), object(16)\n",
      "memory usage: 7.3+ MB\n"
     ]
    }
   ],
   "source": [
    "df.info()"
   ]
  },
  {
   "cell_type": "code",
   "execution_count": null,
   "metadata": {},
   "outputs": [],
   "source": []
  },
  {
   "cell_type": "markdown",
   "metadata": {},
   "source": [
    "#### mango.cusine_code\n",
    "- 1: 한식\n",
    "- 2: 중식\n",
    "- 3: 일식\n",
    "- 4: 양식\n",
    "- 5: 동남아\n",
    "- 6: 뷔페\n",
    "- 7: 카페/디저트\n",
    "- 8: 바"
   ]
  },
  {
   "cell_type": "code",
   "execution_count": null,
   "metadata": {},
   "outputs": [],
   "source": []
  },
  {
   "cell_type": "code",
   "execution_count": null,
   "metadata": {},
   "outputs": [],
   "source": []
  },
  {
   "cell_type": "code",
   "execution_count": null,
   "metadata": {},
   "outputs": [],
   "source": []
  },
  {
   "cell_type": "code",
   "execution_count": null,
   "metadata": {},
   "outputs": [],
   "source": []
  },
  {
   "cell_type": "code",
   "execution_count": null,
   "metadata": {},
   "outputs": [],
   "source": []
  }
 ],
 "metadata": {
  "kernelspec": {
   "display_name": "Python 3",
   "language": "python",
   "name": "python3"
  },
  "language_info": {
   "codemirror_mode": {
    "name": "ipython",
    "version": 3
   },
   "file_extension": ".py",
   "mimetype": "text/x-python",
   "name": "python",
   "nbconvert_exporter": "python",
   "pygments_lexer": "ipython3",
   "version": "3.7.6"
  }
 },
 "nbformat": 4,
 "nbformat_minor": 4
}
