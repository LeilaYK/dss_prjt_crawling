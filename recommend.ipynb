{
 "cells": [
  {
   "cell_type": "code",
   "execution_count": 2,
   "metadata": {
    "scrolled": true
   },
   "outputs": [
    {
     "name": "stdout",
     "output_type": "stream",
     "text": [
      "Requirement already satisfied: geopy in c:\\users\\user\\anaconda3\\lib\\site-packages (2.0.0)\n",
      "Requirement already satisfied: geographiclib<2,>=1.49 in c:\\users\\user\\anaconda3\\lib\\site-packages (from geopy) (1.50)\n"
     ]
    }
   ],
   "source": [
    "!pip install geopy"
   ]
  },
  {
   "cell_type": "code",
   "execution_count": 3,
   "metadata": {},
   "outputs": [
    {
     "name": "stdout",
     "output_type": "stream",
     "text": [
      "Requirement already satisfied: pip in c:\\users\\user\\anaconda3\\lib\\site-packages (20.3.1)\n"
     ]
    }
   ],
   "source": [
    "!pip install --upgrade pip"
   ]
  },
  {
   "cell_type": "code",
   "execution_count": 4,
   "metadata": {},
   "outputs": [],
   "source": [
    "import requests\n",
    "import urllib.parse as urlparse\n",
    "from geopy import distance"
   ]
  },
  {
   "cell_type": "code",
   "execution_count": 5,
   "metadata": {},
   "outputs": [],
   "source": [
    "naver_KEY_ID = 'nWxD0TpBM0o2UmWor2YT'\n",
    "naver_KEY_secret = 'yNSdVVOHuN'"
   ]
  },
  {
   "cell_type": "code",
   "execution_count": 6,
   "metadata": {},
   "outputs": [],
   "source": [
    "class Route:\n",
    "    def __init__(self, headers={\"X-NCP-APIGW-API-KEY-ID\": naver_KEY_ID,\n",
    "           \"X-NCP-APIGW-API-KEY\": naver_KEY_secret}):\n",
    "        self.headers = headers\n",
    "    \n",
    "    # 각 출발지 -> 위경도 변환\n",
    "    \n",
    "    def addr_to_xy(self):\n",
    "        # 주소값 입력\n",
    "        self.d1_name = input(\"출발지 1을 입력하세요. : \")\n",
    "        self.d2_name = input(\"출발지 2를 입력하세요. : \")\n",
    "        # URL 설정\n",
    "        self.d1_url = \"https://naveropenapi.apigw.ntruss.com/map-geocode/v2/geocode?query={}\".format(self.d1_name)\n",
    "        self.d2_url = \"https://naveropenapi.apigw.ntruss.com/map-geocode/v2/geocode?query={}\".format(self.d2_name)\n",
    "        # 리퀘스트\n",
    "        self.response1 = requests.get(self.d1_url, headers=self.headers)\n",
    "        self.response2 = requests.get(self.d2_url, headers=self.headers)\n",
    "        # JSON 파싱하여 위경도 추출\n",
    "        self.d1_x = self.response1.json()[\"addresses\"][0][\"x\"] \n",
    "        self.d1_y = self.response1.json()[\"addresses\"][0][\"y\"]\n",
    "        self.d2_x = self.response2.json()[\"addresses\"][0][\"x\"]\n",
    "        self.d2_y = self.response2.json()[\"addresses\"][0][\"y\"]\n",
    "        return self.d1_x, self.d1_y, self.d2_x, self.d2_y\n",
    "    \n",
    "    # 출발지간 위경도 -> 경로값 변환\n",
    "    def road_path(self):\n",
    "        self.d1_xy = str(self.d1_x) + \",\" + str(self.d1_y)\n",
    "        self.d2_xy = str(self.d2_x) + \",\" + str(self.d2_y)\n",
    "        self.d_option = \"traoptimal\"\n",
    "        self.d_url = \"https://naveropenapi.apigw.ntruss.com/map-direction/v1/driving?start={}&goal={}&option={}\".format(self.d1_xy, self.d2_xy, self.d_option)\n",
    "        self.response = requests.get(self.d_url, headers=self.headers)\n",
    "        self.path = self.response.json()[\"route\"][\"traoptimal\"][0][\"path\"]\n",
    "        self.avg_path = self.response.json()[\"route\"][\"traoptimal\"][0][\"summary\"][\"distance\"] / len(self.path)\n",
    "        print(\"거리 : {}m, \".format(self.response.json()[\"route\"][\"traoptimal\"][0][\"summary\"][\"distance\"]), len(self.path), \", \", self.avg_path)\n",
    "        return self.path\n",
    "    \n",
    "    # 출발지간 대중교통 경로\n",
    "    def trans_path(self, path_type=0):\n",
    "        self.path_type = path_type\n",
    "        self.key = 'ODSAY KEY'\n",
    "        self.url = 'https://api.odsay.com/v1/api/searchPubTransPathT'\n",
    "        self.params = {'apiKey' : self.key,\n",
    "                  'SX' : self.d1_x,\n",
    "                  'SY' : self.d1_y,\n",
    "                  'EX' : self.d2_x,\n",
    "                  'EY' : self.d2_y,\n",
    "                  'SearchPathType' : self.path_type,\n",
    "                  'OPT':0,\n",
    "                 }\n",
    "        self.url = self.url + '?' + urlparse.urlencode(self.params)\n",
    "        self.response = requests.get(self.url)\n",
    "        # 경로내 정류장 위경도 추출\n",
    "        self.transit_count = self.response.json()['result']['path'][0]['info']['busTransitCount'] + self.response.json()['result']['path'][0]['info']['subwayTransitCount']\n",
    "        self.distance = round(self.response.json()['result']['path'][0]['info']['totalDistance'] / 1000,2)\n",
    "        self.stop_lat_lng = []\n",
    "        for i in range(1, 2*self.transit_count, 2):\n",
    "            self.stop_info = self.response.json()['result']['path'][0]['subPath'][i]['passStopList']['stations']\n",
    "            self.stop_lat_lng += [(float(a['y']),float(a['x'])) for a in self.stop_info]\n",
    "        # 경로가 1km이하거나, 정류장이 5개 미만이면 모든 위경도 표출하고, 이외에는 중간 6개의 정류장 위경도만 표출\n",
    "        if self.distance <= 1 or len(self.stop_lat_lng) <= 5:\n",
    "            self.meet_point = self.stop_lat_lng\n",
    "        else:\n",
    "            self.meet_point = self.stop_lat_lng[len(self.stop_lat_lng)//2-3:len(self.stop_lat_lng)//2+3]\n",
    "        print('거리: {}km'.format(self.distance))\n",
    "        return self.meet_point, self.stop_lat_lng\n"
   ]
  },
  {
   "cell_type": "code",
   "execution_count": 7,
   "metadata": {},
   "outputs": [],
   "source": [
    "rte = Route()\n"
   ]
  },
  {
   "cell_type": "code",
   "execution_count": 24,
   "metadata": {},
   "outputs": [
    {
     "name": "stdout",
     "output_type": "stream",
     "text": [
      "출발지 1을 입력하세요. : 서울특별시 종로구 당주동 128-14\n",
      "출발지 2를 입력하세요. : 서울특별시 서대문구 냉천동 183-2\n"
     ]
    },
    {
     "ename": "KeyError",
     "evalue": "'addresses'",
     "output_type": "error",
     "traceback": [
      "\u001b[1;31m---------------------------------------------------------------------------\u001b[0m",
      "\u001b[1;31mKeyError\u001b[0m                                  Traceback (most recent call last)",
      "\u001b[1;32m<ipython-input-24-a61f12b12ab6>\u001b[0m in \u001b[0;36m<module>\u001b[1;34m\u001b[0m\n\u001b[1;32m----> 1\u001b[1;33m \u001b[0md1_x\u001b[0m\u001b[1;33m,\u001b[0m \u001b[0md1_y\u001b[0m\u001b[1;33m,\u001b[0m \u001b[0md2_x\u001b[0m\u001b[1;33m,\u001b[0m \u001b[0md2_y\u001b[0m \u001b[1;33m=\u001b[0m \u001b[0mrte\u001b[0m\u001b[1;33m.\u001b[0m\u001b[0maddr_to_xy\u001b[0m\u001b[1;33m(\u001b[0m\u001b[1;33m)\u001b[0m\u001b[1;33m\u001b[0m\u001b[1;33m\u001b[0m\u001b[0m\n\u001b[0m\u001b[0;32m      2\u001b[0m \u001b[0md1_x\u001b[0m\u001b[1;33m,\u001b[0m \u001b[0md1_y\u001b[0m\u001b[1;33m,\u001b[0m \u001b[0md2_x\u001b[0m\u001b[1;33m,\u001b[0m \u001b[0md2_y\u001b[0m\u001b[1;33m\u001b[0m\u001b[1;33m\u001b[0m\u001b[0m\n",
      "\u001b[1;32m<ipython-input-6-c3cfd476282a>\u001b[0m in \u001b[0;36maddr_to_xy\u001b[1;34m(self)\u001b[0m\n\u001b[0;32m     17\u001b[0m         \u001b[0mself\u001b[0m\u001b[1;33m.\u001b[0m\u001b[0mresponse2\u001b[0m \u001b[1;33m=\u001b[0m \u001b[0mrequests\u001b[0m\u001b[1;33m.\u001b[0m\u001b[0mget\u001b[0m\u001b[1;33m(\u001b[0m\u001b[0mself\u001b[0m\u001b[1;33m.\u001b[0m\u001b[0md2_url\u001b[0m\u001b[1;33m,\u001b[0m \u001b[0mheaders\u001b[0m\u001b[1;33m=\u001b[0m\u001b[0mself\u001b[0m\u001b[1;33m.\u001b[0m\u001b[0mheaders\u001b[0m\u001b[1;33m)\u001b[0m\u001b[1;33m\u001b[0m\u001b[1;33m\u001b[0m\u001b[0m\n\u001b[0;32m     18\u001b[0m         \u001b[1;31m# JSON 파싱하여 위경도 추출\u001b[0m\u001b[1;33m\u001b[0m\u001b[1;33m\u001b[0m\u001b[1;33m\u001b[0m\u001b[0m\n\u001b[1;32m---> 19\u001b[1;33m         \u001b[0mself\u001b[0m\u001b[1;33m.\u001b[0m\u001b[0md1_x\u001b[0m \u001b[1;33m=\u001b[0m \u001b[0mself\u001b[0m\u001b[1;33m.\u001b[0m\u001b[0mresponse1\u001b[0m\u001b[1;33m.\u001b[0m\u001b[0mjson\u001b[0m\u001b[1;33m(\u001b[0m\u001b[1;33m)\u001b[0m\u001b[1;33m[\u001b[0m\u001b[1;34m\"addresses\"\u001b[0m\u001b[1;33m]\u001b[0m\u001b[1;33m[\u001b[0m\u001b[1;36m0\u001b[0m\u001b[1;33m]\u001b[0m\u001b[1;33m[\u001b[0m\u001b[1;34m\"x\"\u001b[0m\u001b[1;33m]\u001b[0m\u001b[1;33m\u001b[0m\u001b[1;33m\u001b[0m\u001b[0m\n\u001b[0m\u001b[0;32m     20\u001b[0m         \u001b[0mself\u001b[0m\u001b[1;33m.\u001b[0m\u001b[0md1_y\u001b[0m \u001b[1;33m=\u001b[0m \u001b[0mself\u001b[0m\u001b[1;33m.\u001b[0m\u001b[0mresponse1\u001b[0m\u001b[1;33m.\u001b[0m\u001b[0mjson\u001b[0m\u001b[1;33m(\u001b[0m\u001b[1;33m)\u001b[0m\u001b[1;33m[\u001b[0m\u001b[1;34m\"addresses\"\u001b[0m\u001b[1;33m]\u001b[0m\u001b[1;33m[\u001b[0m\u001b[1;36m0\u001b[0m\u001b[1;33m]\u001b[0m\u001b[1;33m[\u001b[0m\u001b[1;34m\"y\"\u001b[0m\u001b[1;33m]\u001b[0m\u001b[1;33m\u001b[0m\u001b[1;33m\u001b[0m\u001b[0m\n\u001b[0;32m     21\u001b[0m         \u001b[0mself\u001b[0m\u001b[1;33m.\u001b[0m\u001b[0md2_x\u001b[0m \u001b[1;33m=\u001b[0m \u001b[0mself\u001b[0m\u001b[1;33m.\u001b[0m\u001b[0mresponse2\u001b[0m\u001b[1;33m.\u001b[0m\u001b[0mjson\u001b[0m\u001b[1;33m(\u001b[0m\u001b[1;33m)\u001b[0m\u001b[1;33m[\u001b[0m\u001b[1;34m\"addresses\"\u001b[0m\u001b[1;33m]\u001b[0m\u001b[1;33m[\u001b[0m\u001b[1;36m0\u001b[0m\u001b[1;33m]\u001b[0m\u001b[1;33m[\u001b[0m\u001b[1;34m\"x\"\u001b[0m\u001b[1;33m]\u001b[0m\u001b[1;33m\u001b[0m\u001b[1;33m\u001b[0m\u001b[0m\n",
      "\u001b[1;31mKeyError\u001b[0m: 'addresses'"
     ]
    }
   ],
   "source": [
    "d1_x, d1_y, d2_x, d2_y = rte.addr_to_xy()\n",
    "d1_x, d1_y, d2_x, d2_y\n"
   ]
  },
  {
   "cell_type": "code",
   "execution_count": 11,
   "metadata": {},
   "outputs": [
    {
     "ename": "AttributeError",
     "evalue": "'Route' object has no attribute 'd1_x'",
     "output_type": "error",
     "traceback": [
      "\u001b[1;31m---------------------------------------------------------------------------\u001b[0m",
      "\u001b[1;31mAttributeError\u001b[0m                            Traceback (most recent call last)",
      "\u001b[1;32m<ipython-input-11-3631068c0b34>\u001b[0m in \u001b[0;36m<module>\u001b[1;34m\u001b[0m\n\u001b[0;32m      1\u001b[0m \u001b[1;31m# 대중교통 이동\u001b[0m\u001b[1;33m\u001b[0m\u001b[1;33m\u001b[0m\u001b[1;33m\u001b[0m\u001b[0m\n\u001b[1;32m----> 2\u001b[1;33m \u001b[0mmeet_points\u001b[0m\u001b[1;33m,\u001b[0m \u001b[0mall_points\u001b[0m \u001b[1;33m=\u001b[0m \u001b[0mrte\u001b[0m\u001b[1;33m.\u001b[0m\u001b[0mtrans_path\u001b[0m\u001b[1;33m(\u001b[0m\u001b[1;33m)\u001b[0m\u001b[1;33m\u001b[0m\u001b[1;33m\u001b[0m\u001b[0m\n\u001b[0m",
      "\u001b[1;32m<ipython-input-6-c3cfd476282a>\u001b[0m in \u001b[0;36mtrans_path\u001b[1;34m(self, path_type)\u001b[0m\n\u001b[0;32m     41\u001b[0m         \u001b[0mself\u001b[0m\u001b[1;33m.\u001b[0m\u001b[0murl\u001b[0m \u001b[1;33m=\u001b[0m \u001b[1;34m'https://api.odsay.com/v1/api/searchPubTransPathT'\u001b[0m\u001b[1;33m\u001b[0m\u001b[1;33m\u001b[0m\u001b[0m\n\u001b[0;32m     42\u001b[0m         self.params = {'apiKey' : self.key,\n\u001b[1;32m---> 43\u001b[1;33m                   \u001b[1;34m'SX'\u001b[0m \u001b[1;33m:\u001b[0m \u001b[0mself\u001b[0m\u001b[1;33m.\u001b[0m\u001b[0md1_x\u001b[0m\u001b[1;33m,\u001b[0m\u001b[1;33m\u001b[0m\u001b[1;33m\u001b[0m\u001b[0m\n\u001b[0m\u001b[0;32m     44\u001b[0m                   \u001b[1;34m'SY'\u001b[0m \u001b[1;33m:\u001b[0m \u001b[0mself\u001b[0m\u001b[1;33m.\u001b[0m\u001b[0md1_y\u001b[0m\u001b[1;33m,\u001b[0m\u001b[1;33m\u001b[0m\u001b[1;33m\u001b[0m\u001b[0m\n\u001b[0;32m     45\u001b[0m                   \u001b[1;34m'EX'\u001b[0m \u001b[1;33m:\u001b[0m \u001b[0mself\u001b[0m\u001b[1;33m.\u001b[0m\u001b[0md2_x\u001b[0m\u001b[1;33m,\u001b[0m\u001b[1;33m\u001b[0m\u001b[1;33m\u001b[0m\u001b[0m\n",
      "\u001b[1;31mAttributeError\u001b[0m: 'Route' object has no attribute 'd1_x'"
     ]
    }
   ],
   "source": [
    "# 대중교통 이동\n",
    "meet_points, all_points = rte.trans_path()\n"
   ]
  },
  {
   "cell_type": "code",
   "execution_count": 12,
   "metadata": {},
   "outputs": [
    {
     "ename": "NameError",
     "evalue": "name 'all_points' is not defined",
     "output_type": "error",
     "traceback": [
      "\u001b[1;31m---------------------------------------------------------------------------\u001b[0m",
      "\u001b[1;31mNameError\u001b[0m                                 Traceback (most recent call last)",
      "\u001b[1;32m<ipython-input-12-2b028e78b9b5>\u001b[0m in \u001b[0;36m<module>\u001b[1;34m\u001b[0m\n\u001b[0;32m      1\u001b[0m \u001b[1;31m# 경로내 위, 경도 최대 최소값 구하기\u001b[0m\u001b[1;33m\u001b[0m\u001b[1;33m\u001b[0m\u001b[1;33m\u001b[0m\u001b[0m\n\u001b[1;32m----> 2\u001b[1;33m \u001b[0mlat_list\u001b[0m \u001b[1;33m=\u001b[0m \u001b[1;33m[\u001b[0m\u001b[0mpoint\u001b[0m\u001b[1;33m[\u001b[0m\u001b[1;36m0\u001b[0m\u001b[1;33m]\u001b[0m \u001b[1;32mfor\u001b[0m \u001b[0mpoint\u001b[0m \u001b[1;32min\u001b[0m \u001b[0mall_points\u001b[0m\u001b[1;33m]\u001b[0m\u001b[1;33m\u001b[0m\u001b[1;33m\u001b[0m\u001b[0m\n\u001b[0m\u001b[0;32m      3\u001b[0m \u001b[0mlng_list\u001b[0m \u001b[1;33m=\u001b[0m \u001b[1;33m[\u001b[0m\u001b[0mpoint\u001b[0m\u001b[1;33m[\u001b[0m\u001b[1;36m1\u001b[0m\u001b[1;33m]\u001b[0m \u001b[1;32mfor\u001b[0m \u001b[0mpoint\u001b[0m \u001b[1;32min\u001b[0m \u001b[0mall_points\u001b[0m\u001b[1;33m]\u001b[0m\u001b[1;33m\u001b[0m\u001b[1;33m\u001b[0m\u001b[0m\n",
      "\u001b[1;31mNameError\u001b[0m: name 'all_points' is not defined"
     ]
    }
   ],
   "source": [
    "# 경로내 위, 경도 최대 최소값 구하기\n",
    "lat_list = [point[0] for point in all_points]\n",
    "lng_list = [point[1] for point in all_points]\n"
   ]
  },
  {
   "cell_type": "code",
   "execution_count": 13,
   "metadata": {},
   "outputs": [
    {
     "ename": "NameError",
     "evalue": "name 'lat_list' is not defined",
     "output_type": "error",
     "traceback": [
      "\u001b[1;31m---------------------------------------------------------------------------\u001b[0m",
      "\u001b[1;31mNameError\u001b[0m                                 Traceback (most recent call last)",
      "\u001b[1;32m<ipython-input-13-1a923e5aeecb>\u001b[0m in \u001b[0;36m<module>\u001b[1;34m\u001b[0m\n\u001b[1;32m----> 1\u001b[1;33m \u001b[0mmin\u001b[0m\u001b[1;33m(\u001b[0m\u001b[0mlat_list\u001b[0m\u001b[1;33m)\u001b[0m\u001b[1;33m,\u001b[0m \u001b[0mmax\u001b[0m\u001b[1;33m(\u001b[0m\u001b[0mlat_list\u001b[0m\u001b[1;33m)\u001b[0m\u001b[1;33m,\u001b[0m \u001b[0mmin\u001b[0m\u001b[1;33m(\u001b[0m\u001b[0mlng_list\u001b[0m\u001b[1;33m)\u001b[0m\u001b[1;33m,\u001b[0m \u001b[0mmax\u001b[0m\u001b[1;33m(\u001b[0m\u001b[0mlng_list\u001b[0m\u001b[1;33m)\u001b[0m\u001b[1;33m\u001b[0m\u001b[1;33m\u001b[0m\u001b[0m\n\u001b[0m",
      "\u001b[1;31mNameError\u001b[0m: name 'lat_list' is not defined"
     ]
    }
   ],
   "source": [
    "min(lat_list), max(lat_list), min(lng_list), max(lng_list)\n"
   ]
  },
  {
   "cell_type": "code",
   "execution_count": 14,
   "metadata": {},
   "outputs": [
    {
     "ename": "FileNotFoundError",
     "evalue": "[Errno 2] No such file or directory: 'mango_r.csv'",
     "output_type": "error",
     "traceback": [
      "\u001b[1;31m---------------------------------------------------------------------------\u001b[0m",
      "\u001b[1;31mFileNotFoundError\u001b[0m                         Traceback (most recent call last)",
      "\u001b[1;32m<ipython-input-14-4f3749335601>\u001b[0m in \u001b[0;36m<module>\u001b[1;34m\u001b[0m\n\u001b[1;32m----> 1\u001b[1;33m \u001b[0mdf\u001b[0m \u001b[1;33m=\u001b[0m \u001b[0mpd\u001b[0m\u001b[1;33m.\u001b[0m\u001b[0mread_csv\u001b[0m\u001b[1;33m(\u001b[0m\u001b[1;34m'mango_r.csv'\u001b[0m\u001b[1;33m)\u001b[0m\u001b[1;33m\u001b[0m\u001b[1;33m\u001b[0m\u001b[0m\n\u001b[0m\u001b[0;32m      2\u001b[0m \u001b[0mdf\u001b[0m\u001b[1;33m.\u001b[0m\u001b[0minfo\u001b[0m\u001b[1;33m(\u001b[0m\u001b[1;33m)\u001b[0m\u001b[1;33m\u001b[0m\u001b[1;33m\u001b[0m\u001b[0m\n",
      "\u001b[1;32m~\\anaconda3\\lib\\site-packages\\pandas\\io\\parsers.py\u001b[0m in \u001b[0;36mread_csv\u001b[1;34m(filepath_or_buffer, sep, delimiter, header, names, index_col, usecols, squeeze, prefix, mangle_dupe_cols, dtype, engine, converters, true_values, false_values, skipinitialspace, skiprows, skipfooter, nrows, na_values, keep_default_na, na_filter, verbose, skip_blank_lines, parse_dates, infer_datetime_format, keep_date_col, date_parser, dayfirst, cache_dates, iterator, chunksize, compression, thousands, decimal, lineterminator, quotechar, quoting, doublequote, escapechar, comment, encoding, dialect, error_bad_lines, warn_bad_lines, delim_whitespace, low_memory, memory_map, float_precision)\u001b[0m\n\u001b[0;32m    686\u001b[0m     )\n\u001b[0;32m    687\u001b[0m \u001b[1;33m\u001b[0m\u001b[0m\n\u001b[1;32m--> 688\u001b[1;33m     \u001b[1;32mreturn\u001b[0m \u001b[0m_read\u001b[0m\u001b[1;33m(\u001b[0m\u001b[0mfilepath_or_buffer\u001b[0m\u001b[1;33m,\u001b[0m \u001b[0mkwds\u001b[0m\u001b[1;33m)\u001b[0m\u001b[1;33m\u001b[0m\u001b[1;33m\u001b[0m\u001b[0m\n\u001b[0m\u001b[0;32m    689\u001b[0m \u001b[1;33m\u001b[0m\u001b[0m\n\u001b[0;32m    690\u001b[0m \u001b[1;33m\u001b[0m\u001b[0m\n",
      "\u001b[1;32m~\\anaconda3\\lib\\site-packages\\pandas\\io\\parsers.py\u001b[0m in \u001b[0;36m_read\u001b[1;34m(filepath_or_buffer, kwds)\u001b[0m\n\u001b[0;32m    452\u001b[0m \u001b[1;33m\u001b[0m\u001b[0m\n\u001b[0;32m    453\u001b[0m     \u001b[1;31m# Create the parser.\u001b[0m\u001b[1;33m\u001b[0m\u001b[1;33m\u001b[0m\u001b[1;33m\u001b[0m\u001b[0m\n\u001b[1;32m--> 454\u001b[1;33m     \u001b[0mparser\u001b[0m \u001b[1;33m=\u001b[0m \u001b[0mTextFileReader\u001b[0m\u001b[1;33m(\u001b[0m\u001b[0mfp_or_buf\u001b[0m\u001b[1;33m,\u001b[0m \u001b[1;33m**\u001b[0m\u001b[0mkwds\u001b[0m\u001b[1;33m)\u001b[0m\u001b[1;33m\u001b[0m\u001b[1;33m\u001b[0m\u001b[0m\n\u001b[0m\u001b[0;32m    455\u001b[0m \u001b[1;33m\u001b[0m\u001b[0m\n\u001b[0;32m    456\u001b[0m     \u001b[1;32mif\u001b[0m \u001b[0mchunksize\u001b[0m \u001b[1;32mor\u001b[0m \u001b[0miterator\u001b[0m\u001b[1;33m:\u001b[0m\u001b[1;33m\u001b[0m\u001b[1;33m\u001b[0m\u001b[0m\n",
      "\u001b[1;32m~\\anaconda3\\lib\\site-packages\\pandas\\io\\parsers.py\u001b[0m in \u001b[0;36m__init__\u001b[1;34m(self, f, engine, **kwds)\u001b[0m\n\u001b[0;32m    946\u001b[0m             \u001b[0mself\u001b[0m\u001b[1;33m.\u001b[0m\u001b[0moptions\u001b[0m\u001b[1;33m[\u001b[0m\u001b[1;34m\"has_index_names\"\u001b[0m\u001b[1;33m]\u001b[0m \u001b[1;33m=\u001b[0m \u001b[0mkwds\u001b[0m\u001b[1;33m[\u001b[0m\u001b[1;34m\"has_index_names\"\u001b[0m\u001b[1;33m]\u001b[0m\u001b[1;33m\u001b[0m\u001b[1;33m\u001b[0m\u001b[0m\n\u001b[0;32m    947\u001b[0m \u001b[1;33m\u001b[0m\u001b[0m\n\u001b[1;32m--> 948\u001b[1;33m         \u001b[0mself\u001b[0m\u001b[1;33m.\u001b[0m\u001b[0m_make_engine\u001b[0m\u001b[1;33m(\u001b[0m\u001b[0mself\u001b[0m\u001b[1;33m.\u001b[0m\u001b[0mengine\u001b[0m\u001b[1;33m)\u001b[0m\u001b[1;33m\u001b[0m\u001b[1;33m\u001b[0m\u001b[0m\n\u001b[0m\u001b[0;32m    949\u001b[0m \u001b[1;33m\u001b[0m\u001b[0m\n\u001b[0;32m    950\u001b[0m     \u001b[1;32mdef\u001b[0m \u001b[0mclose\u001b[0m\u001b[1;33m(\u001b[0m\u001b[0mself\u001b[0m\u001b[1;33m)\u001b[0m\u001b[1;33m:\u001b[0m\u001b[1;33m\u001b[0m\u001b[1;33m\u001b[0m\u001b[0m\n",
      "\u001b[1;32m~\\anaconda3\\lib\\site-packages\\pandas\\io\\parsers.py\u001b[0m in \u001b[0;36m_make_engine\u001b[1;34m(self, engine)\u001b[0m\n\u001b[0;32m   1178\u001b[0m     \u001b[1;32mdef\u001b[0m \u001b[0m_make_engine\u001b[0m\u001b[1;33m(\u001b[0m\u001b[0mself\u001b[0m\u001b[1;33m,\u001b[0m \u001b[0mengine\u001b[0m\u001b[1;33m=\u001b[0m\u001b[1;34m\"c\"\u001b[0m\u001b[1;33m)\u001b[0m\u001b[1;33m:\u001b[0m\u001b[1;33m\u001b[0m\u001b[1;33m\u001b[0m\u001b[0m\n\u001b[0;32m   1179\u001b[0m         \u001b[1;32mif\u001b[0m \u001b[0mengine\u001b[0m \u001b[1;33m==\u001b[0m \u001b[1;34m\"c\"\u001b[0m\u001b[1;33m:\u001b[0m\u001b[1;33m\u001b[0m\u001b[1;33m\u001b[0m\u001b[0m\n\u001b[1;32m-> 1180\u001b[1;33m             \u001b[0mself\u001b[0m\u001b[1;33m.\u001b[0m\u001b[0m_engine\u001b[0m \u001b[1;33m=\u001b[0m \u001b[0mCParserWrapper\u001b[0m\u001b[1;33m(\u001b[0m\u001b[0mself\u001b[0m\u001b[1;33m.\u001b[0m\u001b[0mf\u001b[0m\u001b[1;33m,\u001b[0m \u001b[1;33m**\u001b[0m\u001b[0mself\u001b[0m\u001b[1;33m.\u001b[0m\u001b[0moptions\u001b[0m\u001b[1;33m)\u001b[0m\u001b[1;33m\u001b[0m\u001b[1;33m\u001b[0m\u001b[0m\n\u001b[0m\u001b[0;32m   1181\u001b[0m         \u001b[1;32melse\u001b[0m\u001b[1;33m:\u001b[0m\u001b[1;33m\u001b[0m\u001b[1;33m\u001b[0m\u001b[0m\n\u001b[0;32m   1182\u001b[0m             \u001b[1;32mif\u001b[0m \u001b[0mengine\u001b[0m \u001b[1;33m==\u001b[0m \u001b[1;34m\"python\"\u001b[0m\u001b[1;33m:\u001b[0m\u001b[1;33m\u001b[0m\u001b[1;33m\u001b[0m\u001b[0m\n",
      "\u001b[1;32m~\\anaconda3\\lib\\site-packages\\pandas\\io\\parsers.py\u001b[0m in \u001b[0;36m__init__\u001b[1;34m(self, src, **kwds)\u001b[0m\n\u001b[0;32m   2008\u001b[0m         \u001b[0mkwds\u001b[0m\u001b[1;33m[\u001b[0m\u001b[1;34m\"usecols\"\u001b[0m\u001b[1;33m]\u001b[0m \u001b[1;33m=\u001b[0m \u001b[0mself\u001b[0m\u001b[1;33m.\u001b[0m\u001b[0musecols\u001b[0m\u001b[1;33m\u001b[0m\u001b[1;33m\u001b[0m\u001b[0m\n\u001b[0;32m   2009\u001b[0m \u001b[1;33m\u001b[0m\u001b[0m\n\u001b[1;32m-> 2010\u001b[1;33m         \u001b[0mself\u001b[0m\u001b[1;33m.\u001b[0m\u001b[0m_reader\u001b[0m \u001b[1;33m=\u001b[0m \u001b[0mparsers\u001b[0m\u001b[1;33m.\u001b[0m\u001b[0mTextReader\u001b[0m\u001b[1;33m(\u001b[0m\u001b[0msrc\u001b[0m\u001b[1;33m,\u001b[0m \u001b[1;33m**\u001b[0m\u001b[0mkwds\u001b[0m\u001b[1;33m)\u001b[0m\u001b[1;33m\u001b[0m\u001b[1;33m\u001b[0m\u001b[0m\n\u001b[0m\u001b[0;32m   2011\u001b[0m         \u001b[0mself\u001b[0m\u001b[1;33m.\u001b[0m\u001b[0munnamed_cols\u001b[0m \u001b[1;33m=\u001b[0m \u001b[0mself\u001b[0m\u001b[1;33m.\u001b[0m\u001b[0m_reader\u001b[0m\u001b[1;33m.\u001b[0m\u001b[0munnamed_cols\u001b[0m\u001b[1;33m\u001b[0m\u001b[1;33m\u001b[0m\u001b[0m\n\u001b[0;32m   2012\u001b[0m \u001b[1;33m\u001b[0m\u001b[0m\n",
      "\u001b[1;32mpandas\\_libs\\parsers.pyx\u001b[0m in \u001b[0;36mpandas._libs.parsers.TextReader.__cinit__\u001b[1;34m()\u001b[0m\n",
      "\u001b[1;32mpandas\\_libs\\parsers.pyx\u001b[0m in \u001b[0;36mpandas._libs.parsers.TextReader._setup_parser_source\u001b[1;34m()\u001b[0m\n",
      "\u001b[1;31mFileNotFoundError\u001b[0m: [Errno 2] No such file or directory: 'mango_r.csv'"
     ]
    }
   ],
   "source": [
    "df = pd.read_csv('mango_r.csv')\n",
    "df.info()\n"
   ]
  },
  {
   "cell_type": "code",
   "execution_count": 15,
   "metadata": {},
   "outputs": [
    {
     "ename": "NameError",
     "evalue": "name 'df' is not defined",
     "output_type": "error",
     "traceback": [
      "\u001b[1;31m---------------------------------------------------------------------------\u001b[0m",
      "\u001b[1;31mNameError\u001b[0m                                 Traceback (most recent call last)",
      "\u001b[1;32m<ipython-input-15-fa84970b9eef>\u001b[0m in \u001b[0;36m<module>\u001b[1;34m\u001b[0m\n\u001b[1;32m----> 1\u001b[1;33m \u001b[0mdf\u001b[0m\u001b[1;33m[\u001b[0m\u001b[1;34m'latlng'\u001b[0m\u001b[1;33m]\u001b[0m \u001b[1;33m=\u001b[0m \u001b[0mdf\u001b[0m\u001b[1;33m.\u001b[0m\u001b[0mapply\u001b[0m\u001b[1;33m(\u001b[0m\u001b[1;32mlambda\u001b[0m \u001b[0mx\u001b[0m\u001b[1;33m:\u001b[0m\u001b[1;33m(\u001b[0m\u001b[0mx\u001b[0m\u001b[1;33m[\u001b[0m\u001b[1;34m'lat'\u001b[0m\u001b[1;33m]\u001b[0m\u001b[1;33m,\u001b[0m \u001b[0mx\u001b[0m\u001b[1;33m[\u001b[0m\u001b[1;34m'lng'\u001b[0m\u001b[1;33m]\u001b[0m\u001b[1;33m)\u001b[0m\u001b[1;33m,\u001b[0m \u001b[0maxis\u001b[0m\u001b[1;33m=\u001b[0m\u001b[1;36m1\u001b[0m\u001b[1;33m)\u001b[0m\u001b[1;33m\u001b[0m\u001b[1;33m\u001b[0m\u001b[0m\n\u001b[0m\u001b[0;32m      2\u001b[0m \u001b[0mdf\u001b[0m\u001b[1;33m.\u001b[0m\u001b[0mtail\u001b[0m\u001b[1;33m(\u001b[0m\u001b[1;33m)\u001b[0m\u001b[1;33m\u001b[0m\u001b[1;33m\u001b[0m\u001b[0m\n",
      "\u001b[1;31mNameError\u001b[0m: name 'df' is not defined"
     ]
    }
   ],
   "source": [
    "df['latlng'] = df.apply(lambda x:(x['lat'], x['lng']), axis=1)\n",
    "df.tail()\n"
   ]
  },
  {
   "cell_type": "code",
   "execution_count": 16,
   "metadata": {},
   "outputs": [
    {
     "ename": "NameError",
     "evalue": "name 'df' is not defined",
     "output_type": "error",
     "traceback": [
      "\u001b[1;31m---------------------------------------------------------------------------\u001b[0m",
      "\u001b[1;31mNameError\u001b[0m                                 Traceback (most recent call last)",
      "\u001b[1;32m<ipython-input-16-0a0cf45696f4>\u001b[0m in \u001b[0;36m<module>\u001b[1;34m\u001b[0m\n\u001b[0;32m      1\u001b[0m \u001b[1;31m# 경로 square 내 맛집 추출\u001b[0m\u001b[1;33m\u001b[0m\u001b[1;33m\u001b[0m\u001b[1;33m\u001b[0m\u001b[0m\n\u001b[1;32m----> 2\u001b[1;33m \u001b[0mdirection_square\u001b[0m \u001b[1;33m=\u001b[0m \u001b[0mdf\u001b[0m\u001b[1;33m[\u001b[0m\u001b[1;33m(\u001b[0m\u001b[0mdf\u001b[0m\u001b[1;33m[\u001b[0m\u001b[1;34m'lat'\u001b[0m\u001b[1;33m]\u001b[0m\u001b[1;33m<=\u001b[0m\u001b[0mmax\u001b[0m\u001b[1;33m(\u001b[0m\u001b[0mlat_list\u001b[0m\u001b[1;33m)\u001b[0m\u001b[1;33m)\u001b[0m \u001b[1;33m&\u001b[0m \u001b[1;33m(\u001b[0m\u001b[0mdf\u001b[0m\u001b[1;33m[\u001b[0m\u001b[1;34m'lat'\u001b[0m\u001b[1;33m]\u001b[0m\u001b[1;33m>=\u001b[0m\u001b[0mmin\u001b[0m\u001b[1;33m(\u001b[0m\u001b[0mlat_list\u001b[0m\u001b[1;33m)\u001b[0m\u001b[1;33m)\u001b[0m \u001b[1;33m&\u001b[0m \u001b[1;33m(\u001b[0m\u001b[0mdf\u001b[0m\u001b[1;33m[\u001b[0m\u001b[1;34m'lng'\u001b[0m\u001b[1;33m]\u001b[0m\u001b[1;33m>=\u001b[0m\u001b[0mmin\u001b[0m\u001b[1;33m(\u001b[0m\u001b[0mlng_list\u001b[0m\u001b[1;33m)\u001b[0m\u001b[1;33m)\u001b[0m \u001b[1;33m&\u001b[0m \u001b[1;33m(\u001b[0m\u001b[0mdf\u001b[0m\u001b[1;33m[\u001b[0m\u001b[1;34m'lng'\u001b[0m\u001b[1;33m]\u001b[0m\u001b[1;33m<=\u001b[0m\u001b[0mmax\u001b[0m\u001b[1;33m(\u001b[0m\u001b[0mlng_list\u001b[0m\u001b[1;33m)\u001b[0m\u001b[1;33m)\u001b[0m\u001b[1;33m]\u001b[0m\u001b[1;33m\u001b[0m\u001b[1;33m\u001b[0m\u001b[0m\n\u001b[0m",
      "\u001b[1;31mNameError\u001b[0m: name 'df' is not defined"
     ]
    }
   ],
   "source": [
    "# 경로 square 내 맛집 추출\n",
    "direction_square = df[(df['lat']<=max(lat_list)) & (df['lat']>=min(lat_list)) & (df['lng']>=min(lng_list)) & (df['lng']<=max(lng_list))]\n"
   ]
  },
  {
   "cell_type": "code",
   "execution_count": 17,
   "metadata": {},
   "outputs": [
    {
     "ename": "NameError",
     "evalue": "name 'direction_square' is not defined",
     "output_type": "error",
     "traceback": [
      "\u001b[1;31m---------------------------------------------------------------------------\u001b[0m",
      "\u001b[1;31mNameError\u001b[0m                                 Traceback (most recent call last)",
      "\u001b[1;32m<ipython-input-17-bc15ac780391>\u001b[0m in \u001b[0;36m<module>\u001b[1;34m\u001b[0m\n\u001b[0;32m      1\u001b[0m \u001b[1;31m# square 내 경로 1km 이내 맛집 추출\u001b[0m\u001b[1;33m\u001b[0m\u001b[1;33m\u001b[0m\u001b[1;33m\u001b[0m\u001b[0m\n\u001b[0;32m      2\u001b[0m \u001b[0mmatzip\u001b[0m\u001b[1;33m=\u001b[0m\u001b[0mpd\u001b[0m\u001b[1;33m.\u001b[0m\u001b[0mDataFrame\u001b[0m\u001b[1;33m(\u001b[0m\u001b[1;33m)\u001b[0m\u001b[1;33m\u001b[0m\u001b[1;33m\u001b[0m\u001b[0m\n\u001b[1;32m----> 3\u001b[1;33m \u001b[1;32mfor\u001b[0m \u001b[0mlat_lng\u001b[0m \u001b[1;32min\u001b[0m \u001b[0mdirection_square\u001b[0m\u001b[1;33m[\u001b[0m\u001b[1;34m'latlng'\u001b[0m\u001b[1;33m]\u001b[0m\u001b[1;33m:\u001b[0m\u001b[1;33m\u001b[0m\u001b[1;33m\u001b[0m\u001b[0m\n\u001b[0m\u001b[0;32m      4\u001b[0m     \u001b[1;32mfor\u001b[0m \u001b[0mpoint\u001b[0m \u001b[1;32min\u001b[0m \u001b[0mmeet_points\u001b[0m\u001b[1;33m:\u001b[0m\u001b[1;33m\u001b[0m\u001b[1;33m\u001b[0m\u001b[0m\n\u001b[0;32m      5\u001b[0m         \u001b[0mdis\u001b[0m \u001b[1;33m=\u001b[0m \u001b[0mdistance\u001b[0m\u001b[1;33m.\u001b[0m\u001b[0mdistance\u001b[0m\u001b[1;33m(\u001b[0m\u001b[0mpoint\u001b[0m\u001b[1;33m,\u001b[0m \u001b[0mlat_lng\u001b[0m\u001b[1;33m)\u001b[0m\u001b[1;33m.\u001b[0m\u001b[0mkm\u001b[0m\u001b[1;33m\u001b[0m\u001b[1;33m\u001b[0m\u001b[0m\n",
      "\u001b[1;31mNameError\u001b[0m: name 'direction_square' is not defined"
     ]
    }
   ],
   "source": [
    "# square 내 경로 1km 이내 맛집 추출\n",
    "matzip=pd.DataFrame()\n",
    "for lat_lng in direction_square['latlng']:\n",
    "    for point in meet_points:\n",
    "        dis = distance.distance(point, lat_lng).km\n",
    "        if dis <= 1:\n",
    "            df_1 = direction_square[direction_square['latlng'] == lat_lng]\n",
    "            matzip = matzip.append(df_1).reset_index(drop=True)\n"
   ]
  },
  {
   "cell_type": "code",
   "execution_count": 18,
   "metadata": {},
   "outputs": [
    {
     "data": {
      "text/html": [
       "<div>\n",
       "<style scoped>\n",
       "    .dataframe tbody tr th:only-of-type {\n",
       "        vertical-align: middle;\n",
       "    }\n",
       "\n",
       "    .dataframe tbody tr th {\n",
       "        vertical-align: top;\n",
       "    }\n",
       "\n",
       "    .dataframe thead th {\n",
       "        text-align: right;\n",
       "    }\n",
       "</style>\n",
       "<table border=\"1\" class=\"dataframe\">\n",
       "  <thead>\n",
       "    <tr style=\"text-align: right;\">\n",
       "      <th></th>\n",
       "    </tr>\n",
       "  </thead>\n",
       "  <tbody>\n",
       "  </tbody>\n",
       "</table>\n",
       "</div>"
      ],
      "text/plain": [
       "Empty DataFrame\n",
       "Columns: []\n",
       "Index: []"
      ]
     },
     "execution_count": 18,
     "metadata": {},
     "output_type": "execute_result"
    }
   ],
   "source": [
    "matzip\n"
   ]
  },
  {
   "cell_type": "code",
   "execution_count": null,
   "metadata": {},
   "outputs": [],
   "source": []
  },
  {
   "cell_type": "code",
   "execution_count": 20,
   "metadata": {},
   "outputs": [],
   "source": [
    "df = pd.read_csv('./df.csv')\n",
    "df = df.drop(columns='Unnamed: 0')"
   ]
  },
  {
   "cell_type": "code",
   "execution_count": 23,
   "metadata": {},
   "outputs": [
    {
     "data": {
      "text/html": [
       "<div>\n",
       "<style scoped>\n",
       "    .dataframe tbody tr th:only-of-type {\n",
       "        vertical-align: middle;\n",
       "    }\n",
       "\n",
       "    .dataframe tbody tr th {\n",
       "        vertical-align: top;\n",
       "    }\n",
       "\n",
       "    .dataframe thead th {\n",
       "        text-align: right;\n",
       "    }\n",
       "</style>\n",
       "<table border=\"1\" class=\"dataframe\">\n",
       "  <thead>\n",
       "    <tr style=\"text-align: right;\">\n",
       "      <th></th>\n",
       "      <th>fname</th>\n",
       "      <th>name</th>\n",
       "      <th>tel</th>\n",
       "      <th>addr</th>\n",
       "      <th>si</th>\n",
       "      <th>gu</th>\n",
       "      <th>dong</th>\n",
       "      <th>bizhour</th>\n",
       "      <th>category</th>\n",
       "      <th>menu</th>\n",
       "      <th>...</th>\n",
       "      <th>microreview</th>\n",
       "      <th>img</th>\n",
       "      <th>lng</th>\n",
       "      <th>lat</th>\n",
       "      <th>n_rating</th>\n",
       "      <th>b_rating</th>\n",
       "      <th>mg_rating</th>\n",
       "      <th>d_rating</th>\n",
       "      <th>mn_rating</th>\n",
       "      <th>rating</th>\n",
       "    </tr>\n",
       "  </thead>\n",
       "  <tbody>\n",
       "    <tr>\n",
       "      <th>45</th>\n",
       "      <td>광화문뚝감</td>\n",
       "      <td>광화문뚝감</td>\n",
       "      <td>02-722-5894</td>\n",
       "      <td>서울특별시 종로구 당주동 128-14</td>\n",
       "      <td>서울특별시</td>\n",
       "      <td>종로구</td>\n",
       "      <td>당주동</td>\n",
       "      <td>매일 00:00~24:00 명절 휴무, 15:00~17:00브레이크타임</td>\n",
       "      <td>한식</td>\n",
       "      <td>감자탕 25,000~41,000 | 해물뼈찜 29,000~44,000 | 뚝감(뚝배...</td>\n",
       "      <td>...</td>\n",
       "      <td>['광화문 맛집 기다린 자만이 먹을 수 있는 뚝배기 감자탕', '그릇 뚝딱하는 뚝배...</td>\n",
       "      <td>https://ldb-phinf.pstatic.net/20190930_207/156...</td>\n",
       "      <td>126.972592</td>\n",
       "      <td>37.572069</td>\n",
       "      <td>4.45</td>\n",
       "      <td>3.53</td>\n",
       "      <td>4.30</td>\n",
       "      <td>3.05</td>\n",
       "      <td>3.54</td>\n",
       "      <td>4.18</td>\n",
       "    </tr>\n",
       "    <tr>\n",
       "      <th>5808</th>\n",
       "      <td>동해관</td>\n",
       "      <td>동해관</td>\n",
       "      <td>02-363-4221</td>\n",
       "      <td>서울특별시 서대문구 냉천동 183-2</td>\n",
       "      <td>서울특별시</td>\n",
       "      <td>서대문구</td>\n",
       "      <td>냉천동</td>\n",
       "      <td>평일 11:30~22:30</td>\n",
       "      <td>한식</td>\n",
       "      <td>점심정식코스 25,000 | 저녁진미코스 40,000</td>\n",
       "      <td>...</td>\n",
       "      <td>[]</td>\n",
       "      <td>https://ldb-phinf.pstatic.net/20200402_20/1585...</td>\n",
       "      <td>126.964985</td>\n",
       "      <td>37.566476</td>\n",
       "      <td>4.62</td>\n",
       "      <td>3.53</td>\n",
       "      <td>3.68</td>\n",
       "      <td>1.94</td>\n",
       "      <td>3.54</td>\n",
       "      <td>4.03</td>\n",
       "    </tr>\n",
       "    <tr>\n",
       "      <th>745</th>\n",
       "      <td>덕수정</td>\n",
       "      <td>덕수정</td>\n",
       "      <td>02-755-0180</td>\n",
       "      <td>서울특별시 중구 정동 11-5</td>\n",
       "      <td>서울특별시</td>\n",
       "      <td>중구</td>\n",
       "      <td>정동</td>\n",
       "      <td>매일 11:00~22:00 | 일요일 휴무</td>\n",
       "      <td>한식</td>\n",
       "      <td>부대찌개 8,000 | 오징어볶음 10,000 | 삼치구이 8,000 | 우거지갈비...</td>\n",
       "      <td>...</td>\n",
       "      <td>['오징어볶음이 맛있는 부대찌개전문점', '오징어볶음 고등학교 나를 살찌운 음식',...</td>\n",
       "      <td>https://ldb-phinf.pstatic.net/20150901_108/144...</td>\n",
       "      <td>126.972550</td>\n",
       "      <td>37.565900</td>\n",
       "      <td>4.33</td>\n",
       "      <td>3.53</td>\n",
       "      <td>4.00</td>\n",
       "      <td>2.75</td>\n",
       "      <td>3.54</td>\n",
       "      <td>4.02</td>\n",
       "    </tr>\n",
       "    <tr>\n",
       "      <th>5842</th>\n",
       "      <td>이판저판</td>\n",
       "      <td>이판저판</td>\n",
       "      <td>02-313-8629</td>\n",
       "      <td>서울특별시 서대문구 냉천동 227</td>\n",
       "      <td>서울특별시</td>\n",
       "      <td>서대문구</td>\n",
       "      <td>냉천동</td>\n",
       "      <td>매일 00:00~24:00</td>\n",
       "      <td>한식</td>\n",
       "      <td>생삼겹살 9,000 | 막걸리 4,000 | 한라산 5,000 | 진한복분자 15,...</td>\n",
       "      <td>...</td>\n",
       "      <td>[]</td>\n",
       "      <td>https://ldb-phinf.pstatic.net/20200302_107/158...</td>\n",
       "      <td>126.964462</td>\n",
       "      <td>37.567742</td>\n",
       "      <td>4.61</td>\n",
       "      <td>3.53</td>\n",
       "      <td>3.68</td>\n",
       "      <td>1.94</td>\n",
       "      <td>3.54</td>\n",
       "      <td>4.02</td>\n",
       "    </tr>\n",
       "    <tr>\n",
       "      <th>13</th>\n",
       "      <td>암소서울</td>\n",
       "      <td>암소서울</td>\n",
       "      <td>02-6744-0123</td>\n",
       "      <td>서울특별시 종로구 신문로1가 115 콘코디언빌딩 지하 1층</td>\n",
       "      <td>서울특별시</td>\n",
       "      <td>종로구</td>\n",
       "      <td>신문로1가</td>\n",
       "      <td>매일 11:00~21:00 | 매일 15:00~16:00 브레이크 타임</td>\n",
       "      <td>한식</td>\n",
       "      <td>종가 159,000 | 반가 ( 런치 ) 79,000 | 회식 ( 6인이상 ) 99...</td>\n",
       "      <td>...</td>\n",
       "      <td>['토니정쉐프의 한식다이닝을 맛볼 수 있는 광화문맛집', '광화문 맛집 이름걸고 하...</td>\n",
       "      <td>https://ldb-phinf.pstatic.net/20191129_184/157...</td>\n",
       "      <td>126.973197</td>\n",
       "      <td>37.569784</td>\n",
       "      <td>4.65</td>\n",
       "      <td>3.53</td>\n",
       "      <td>3.68</td>\n",
       "      <td>0.95</td>\n",
       "      <td>3.54</td>\n",
       "      <td>3.97</td>\n",
       "    </tr>\n",
       "  </tbody>\n",
       "</table>\n",
       "<p>5 rows × 21 columns</p>\n",
       "</div>"
      ],
      "text/plain": [
       "      fname   name           tel                              addr     si  \\\n",
       "45    광화문뚝감  광화문뚝감   02-722-5894              서울특별시 종로구 당주동 128-14  서울특별시   \n",
       "5808    동해관    동해관   02-363-4221              서울특별시 서대문구 냉천동 183-2  서울특별시   \n",
       "745     덕수정    덕수정   02-755-0180                  서울특별시 중구 정동 11-5  서울특별시   \n",
       "5842   이판저판   이판저판   02-313-8629                서울특별시 서대문구 냉천동 227  서울특별시   \n",
       "13     암소서울   암소서울  02-6744-0123  서울특별시 종로구 신문로1가 115 콘코디언빌딩 지하 1층  서울특별시   \n",
       "\n",
       "        gu   dong                                  bizhour category  \\\n",
       "45     종로구    당주동  매일 00:00~24:00 명절 휴무, 15:00~17:00브레이크타임       한식   \n",
       "5808  서대문구    냉천동                           평일 11:30~22:30       한식   \n",
       "745     중구     정동                  매일 11:00~22:00 | 일요일 휴무       한식   \n",
       "5842  서대문구    냉천동                           매일 00:00~24:00       한식   \n",
       "13     종로구  신문로1가  매일 11:00~21:00 | 매일 15:00~16:00 브레이크 타임       한식   \n",
       "\n",
       "                                                   menu  ...  \\\n",
       "45    감자탕 25,000~41,000 | 해물뼈찜 29,000~44,000 | 뚝감(뚝배...  ...   \n",
       "5808                      점심정식코스 25,000 | 저녁진미코스 40,000  ...   \n",
       "745   부대찌개 8,000 | 오징어볶음 10,000 | 삼치구이 8,000 | 우거지갈비...  ...   \n",
       "5842  생삼겹살 9,000 | 막걸리 4,000 | 한라산 5,000 | 진한복분자 15,...  ...   \n",
       "13    종가 159,000 | 반가 ( 런치 ) 79,000 | 회식 ( 6인이상 ) 99...  ...   \n",
       "\n",
       "                                            microreview  \\\n",
       "45    ['광화문 맛집 기다린 자만이 먹을 수 있는 뚝배기 감자탕', '그릇 뚝딱하는 뚝배...   \n",
       "5808                                                 []   \n",
       "745   ['오징어볶음이 맛있는 부대찌개전문점', '오징어볶음 고등학교 나를 살찌운 음식',...   \n",
       "5842                                                 []   \n",
       "13    ['토니정쉐프의 한식다이닝을 맛볼 수 있는 광화문맛집', '광화문 맛집 이름걸고 하...   \n",
       "\n",
       "                                                    img         lng  \\\n",
       "45    https://ldb-phinf.pstatic.net/20190930_207/156...  126.972592   \n",
       "5808  https://ldb-phinf.pstatic.net/20200402_20/1585...  126.964985   \n",
       "745   https://ldb-phinf.pstatic.net/20150901_108/144...  126.972550   \n",
       "5842  https://ldb-phinf.pstatic.net/20200302_107/158...  126.964462   \n",
       "13    https://ldb-phinf.pstatic.net/20191129_184/157...  126.973197   \n",
       "\n",
       "            lat  n_rating  b_rating  mg_rating  d_rating  mn_rating  rating  \n",
       "45    37.572069      4.45      3.53       4.30      3.05       3.54    4.18  \n",
       "5808  37.566476      4.62      3.53       3.68      1.94       3.54    4.03  \n",
       "745   37.565900      4.33      3.53       4.00      2.75       3.54    4.02  \n",
       "5842  37.567742      4.61      3.53       3.68      1.94       3.54    4.02  \n",
       "13    37.569784      4.65      3.53       3.68      0.95       3.54    3.97  \n",
       "\n",
       "[5 rows x 21 columns]"
      ]
     },
     "execution_count": 23,
     "metadata": {},
     "output_type": "execute_result"
    }
   ],
   "source": [
    "cd0 = df.category == '한식'\n",
    "cd1 = df.lat < 37.572380\n",
    "cd2 = df.lat > 37.562380\n",
    "cd3 = df.lng < 126.974200\n",
    "cd4 = df.lng > 126.964200\n",
    "cd_all = cd0 & cd1 & cd2 & cd3 & cd4\n",
    "df[cd_all].sort_values(by='rating', ascending=False).head()"
   ]
  },
  {
   "cell_type": "code",
   "execution_count": null,
   "metadata": {},
   "outputs": [],
   "source": []
  },
  {
   "cell_type": "code",
   "execution_count": null,
   "metadata": {},
   "outputs": [],
   "source": []
  },
  {
   "cell_type": "code",
   "execution_count": null,
   "metadata": {},
   "outputs": [],
   "source": []
  },
  {
   "cell_type": "code",
   "execution_count": null,
   "metadata": {},
   "outputs": [],
   "source": []
  },
  {
   "cell_type": "code",
   "execution_count": 9,
   "metadata": {},
   "outputs": [
    {
     "ename": "SyntaxError",
     "evalue": "invalid syntax (<ipython-input-9-05ee77621b94>, line 1)",
     "output_type": "error",
     "traceback": [
      "\u001b[1;36m  File \u001b[1;32m\"<ipython-input-9-05ee77621b94>\"\u001b[1;36m, line \u001b[1;32m1\u001b[0m\n\u001b[1;33m    var map = new naver.maps.Map('map', {\u001b[0m\n\u001b[1;37m          ^\u001b[0m\n\u001b[1;31mSyntaxError\u001b[0m\u001b[1;31m:\u001b[0m invalid syntax\n"
     ]
    }
   ],
   "source": [
    "var map = new naver.maps.Map('map', {\n",
    "    center: new naver.maps.LatLng(37.3595704, 127.105399),\n",
    "    zoom: 15\n",
    "});\n",
    "\n",
    "var marker = new naver.maps.Marker({\n",
    "    position: new naver.maps.LatLng(37.3595704, 127.105399),\n",
    "    map: map\n",
    "});"
   ]
  },
  {
   "cell_type": "code",
   "execution_count": 10,
   "metadata": {},
   "outputs": [
    {
     "ename": "SyntaxError",
     "evalue": "invalid syntax (<ipython-input-10-a03d0a6869f0>, line 1)",
     "output_type": "error",
     "traceback": [
      "\u001b[1;36m  File \u001b[1;32m\"<ipython-input-10-a03d0a6869f0>\"\u001b[1;36m, line \u001b[1;32m1\u001b[0m\n\u001b[1;33m    <script type=\"text/javascript\" src=\"https://openapi.map.naver.com/openapi/v3/maps.js?ncpClientId=YOUR_CLIENT_ID\"></script>\u001b[0m\n\u001b[1;37m    ^\u001b[0m\n\u001b[1;31mSyntaxError\u001b[0m\u001b[1;31m:\u001b[0m invalid syntax\n"
     ]
    }
   ],
   "source": [
    "<script type=\"text/javascript\" src=\"https://openapi.map.naver.com/openapi/v3/maps.js?ncpClientId=YOUR_CLIENT_ID\"></script>"
   ]
  },
  {
   "cell_type": "code",
   "execution_count": 4,
   "metadata": {},
   "outputs": [
    {
     "ename": "AssertionError",
     "evalue": "A name collision occurred between blueprints <flask.blueprints.Blueprint object at 0x000001BEA7E50808> and <flask.blueprints.Blueprint object at 0x000001BEA7E506C8>. Both share the same name \"googlemaps\". Blueprints that are created on the fly need unique names.",
     "output_type": "error",
     "traceback": [
      "\u001b[1;31m---------------------------------------------------------------------------\u001b[0m",
      "\u001b[1;31mAssertionError\u001b[0m                            Traceback (most recent call last)",
      "\u001b[1;32m<ipython-input-4-f97ed98de03c>\u001b[0m in \u001b[0;36m<module>\u001b[1;34m\u001b[0m\n\u001b[0;32m     11\u001b[0m \u001b[1;33m\u001b[0m\u001b[0m\n\u001b[0;32m     12\u001b[0m \u001b[1;31m# you can also pass the key here if you prefer\u001b[0m\u001b[1;33m\u001b[0m\u001b[1;33m\u001b[0m\u001b[1;33m\u001b[0m\u001b[0m\n\u001b[1;32m---> 13\u001b[1;33m \u001b[0mGoogleMaps\u001b[0m\u001b[1;33m(\u001b[0m\u001b[0mapp\u001b[0m\u001b[1;33m,\u001b[0m \u001b[0mkey\u001b[0m\u001b[1;33m=\u001b[0m\u001b[1;34m\"8JZ7i18MjFuM35dJHq70n3Hx4\"\u001b[0m\u001b[1;33m)\u001b[0m\u001b[1;33m\u001b[0m\u001b[1;33m\u001b[0m\u001b[0m\n\u001b[0m",
      "\u001b[1;32m~\\anaconda3\\lib\\site-packages\\flask_googlemaps\\__init__.py\u001b[0m in \u001b[0;36m__init__\u001b[1;34m(self, app, **kwargs)\u001b[0m\n\u001b[0;32m    787\u001b[0m         \u001b[0mself\u001b[0m\u001b[1;33m.\u001b[0m\u001b[0mkey\u001b[0m \u001b[1;33m=\u001b[0m \u001b[0mkwargs\u001b[0m\u001b[1;33m.\u001b[0m\u001b[0mget\u001b[0m\u001b[1;33m(\u001b[0m\u001b[1;34m'key'\u001b[0m\u001b[1;33m)\u001b[0m\u001b[1;33m\u001b[0m\u001b[1;33m\u001b[0m\u001b[0m\n\u001b[0;32m    788\u001b[0m         \u001b[1;32mif\u001b[0m \u001b[0mapp\u001b[0m\u001b[1;33m:\u001b[0m\u001b[1;33m\u001b[0m\u001b[1;33m\u001b[0m\u001b[0m\n\u001b[1;32m--> 789\u001b[1;33m             \u001b[0mself\u001b[0m\u001b[1;33m.\u001b[0m\u001b[0minit_app\u001b[0m\u001b[1;33m(\u001b[0m\u001b[0mapp\u001b[0m\u001b[1;33m)\u001b[0m\u001b[1;33m\u001b[0m\u001b[1;33m\u001b[0m\u001b[0m\n\u001b[0m\u001b[0;32m    790\u001b[0m \u001b[1;33m\u001b[0m\u001b[0m\n\u001b[0;32m    791\u001b[0m     \u001b[1;32mdef\u001b[0m \u001b[0minit_app\u001b[0m\u001b[1;33m(\u001b[0m\u001b[0mself\u001b[0m\u001b[1;33m,\u001b[0m \u001b[0mapp\u001b[0m\u001b[1;33m)\u001b[0m\u001b[1;33m:\u001b[0m\u001b[1;33m\u001b[0m\u001b[1;33m\u001b[0m\u001b[0m\n",
      "\u001b[1;32m~\\anaconda3\\lib\\site-packages\\flask_googlemaps\\__init__.py\u001b[0m in \u001b[0;36minit_app\u001b[1;34m(self, app)\u001b[0m\n\u001b[0;32m    792\u001b[0m         \u001b[1;32mif\u001b[0m \u001b[0mself\u001b[0m\u001b[1;33m.\u001b[0m\u001b[0mkey\u001b[0m\u001b[1;33m:\u001b[0m\u001b[1;33m\u001b[0m\u001b[1;33m\u001b[0m\u001b[0m\n\u001b[0;32m    793\u001b[0m             \u001b[0mapp\u001b[0m\u001b[1;33m.\u001b[0m\u001b[0mconfig\u001b[0m\u001b[1;33m[\u001b[0m\u001b[1;34m'GOOGLEMAPS_KEY'\u001b[0m\u001b[1;33m]\u001b[0m \u001b[1;33m=\u001b[0m \u001b[0mself\u001b[0m\u001b[1;33m.\u001b[0m\u001b[0mkey\u001b[0m\u001b[1;33m\u001b[0m\u001b[1;33m\u001b[0m\u001b[0m\n\u001b[1;32m--> 794\u001b[1;33m         \u001b[0mself\u001b[0m\u001b[1;33m.\u001b[0m\u001b[0mregister_blueprint\u001b[0m\u001b[1;33m(\u001b[0m\u001b[0mapp\u001b[0m\u001b[1;33m)\u001b[0m\u001b[1;33m\u001b[0m\u001b[1;33m\u001b[0m\u001b[0m\n\u001b[0m\u001b[0;32m    795\u001b[0m         \u001b[0mapp\u001b[0m\u001b[1;33m.\u001b[0m\u001b[0madd_template_filter\u001b[0m\u001b[1;33m(\u001b[0m\u001b[0mgooglemap_html\u001b[0m\u001b[1;33m)\u001b[0m\u001b[1;33m\u001b[0m\u001b[1;33m\u001b[0m\u001b[0m\n\u001b[0;32m    796\u001b[0m         \u001b[0mapp\u001b[0m\u001b[1;33m.\u001b[0m\u001b[0madd_template_filter\u001b[0m\u001b[1;33m(\u001b[0m\u001b[0mgooglemap_js\u001b[0m\u001b[1;33m)\u001b[0m\u001b[1;33m\u001b[0m\u001b[1;33m\u001b[0m\u001b[0m\n",
      "\u001b[1;32m~\\anaconda3\\lib\\site-packages\\flask_googlemaps\\__init__.py\u001b[0m in \u001b[0;36mregister_blueprint\u001b[1;34m(self, app)\u001b[0m\n\u001b[0;32m    807\u001b[0m             \u001b[1;34m\"googlemaps\"\u001b[0m\u001b[1;33m,\u001b[0m \u001b[0m__name__\u001b[0m\u001b[1;33m,\u001b[0m \u001b[0mtemplate_folder\u001b[0m\u001b[1;33m=\u001b[0m\u001b[1;34m\"templates\"\u001b[0m\u001b[1;33m\u001b[0m\u001b[1;33m\u001b[0m\u001b[0m\n\u001b[0;32m    808\u001b[0m         )\n\u001b[1;32m--> 809\u001b[1;33m         \u001b[0mapp\u001b[0m\u001b[1;33m.\u001b[0m\u001b[0mregister_blueprint\u001b[0m\u001b[1;33m(\u001b[0m\u001b[0mmodule\u001b[0m\u001b[1;33m)\u001b[0m\u001b[1;33m\u001b[0m\u001b[1;33m\u001b[0m\u001b[0m\n\u001b[0m\u001b[0;32m    810\u001b[0m         \u001b[1;32mreturn\u001b[0m \u001b[0mmodule\u001b[0m\u001b[1;33m\u001b[0m\u001b[1;33m\u001b[0m\u001b[0m\n",
      "\u001b[1;32m~\\anaconda3\\lib\\site-packages\\flask\\app.py\u001b[0m in \u001b[0;36mwrapper_func\u001b[1;34m(self, *args, **kwargs)\u001b[0m\n\u001b[0;32m     96\u001b[0m                 \u001b[1;34m\"before the application starts serving requests.\"\u001b[0m\u001b[1;33m\u001b[0m\u001b[1;33m\u001b[0m\u001b[0m\n\u001b[0;32m     97\u001b[0m             )\n\u001b[1;32m---> 98\u001b[1;33m         \u001b[1;32mreturn\u001b[0m \u001b[0mf\u001b[0m\u001b[1;33m(\u001b[0m\u001b[0mself\u001b[0m\u001b[1;33m,\u001b[0m \u001b[1;33m*\u001b[0m\u001b[0margs\u001b[0m\u001b[1;33m,\u001b[0m \u001b[1;33m**\u001b[0m\u001b[0mkwargs\u001b[0m\u001b[1;33m)\u001b[0m\u001b[1;33m\u001b[0m\u001b[1;33m\u001b[0m\u001b[0m\n\u001b[0m\u001b[0;32m     99\u001b[0m \u001b[1;33m\u001b[0m\u001b[0m\n\u001b[0;32m    100\u001b[0m     \u001b[1;32mreturn\u001b[0m \u001b[0mupdate_wrapper\u001b[0m\u001b[1;33m(\u001b[0m\u001b[0mwrapper_func\u001b[0m\u001b[1;33m,\u001b[0m \u001b[0mf\u001b[0m\u001b[1;33m)\u001b[0m\u001b[1;33m\u001b[0m\u001b[1;33m\u001b[0m\u001b[0m\n",
      "\u001b[1;32m~\\anaconda3\\lib\\site-packages\\flask\\app.py\u001b[0m in \u001b[0;36mregister_blueprint\u001b[1;34m(self, blueprint, **options)\u001b[0m\n\u001b[0;32m   1158\u001b[0m                 \u001b[1;34m' share the same name \"%s\". Blueprints that are created on the'\u001b[0m\u001b[1;33m\u001b[0m\u001b[1;33m\u001b[0m\u001b[0m\n\u001b[0;32m   1159\u001b[0m                 \u001b[1;34m\" fly need unique names.\"\u001b[0m\u001b[1;33m\u001b[0m\u001b[1;33m\u001b[0m\u001b[0m\n\u001b[1;32m-> 1160\u001b[1;33m                 \u001b[1;33m%\u001b[0m \u001b[1;33m(\u001b[0m\u001b[0mblueprint\u001b[0m\u001b[1;33m,\u001b[0m \u001b[0mself\u001b[0m\u001b[1;33m.\u001b[0m\u001b[0mblueprints\u001b[0m\u001b[1;33m[\u001b[0m\u001b[0mblueprint\u001b[0m\u001b[1;33m.\u001b[0m\u001b[0mname\u001b[0m\u001b[1;33m]\u001b[0m\u001b[1;33m,\u001b[0m \u001b[0mblueprint\u001b[0m\u001b[1;33m.\u001b[0m\u001b[0mname\u001b[0m\u001b[1;33m)\u001b[0m\u001b[1;33m\u001b[0m\u001b[1;33m\u001b[0m\u001b[0m\n\u001b[0m\u001b[0;32m   1161\u001b[0m             )\n\u001b[0;32m   1162\u001b[0m         \u001b[1;32melse\u001b[0m\u001b[1;33m:\u001b[0m\u001b[1;33m\u001b[0m\u001b[1;33m\u001b[0m\u001b[0m\n",
      "\u001b[1;31mAssertionError\u001b[0m: A name collision occurred between blueprints <flask.blueprints.Blueprint object at 0x000001BEA7E50808> and <flask.blueprints.Blueprint object at 0x000001BEA7E506C8>. Both share the same name \"googlemaps\". Blueprints that are created on the fly need unique names."
     ]
    }
   ],
   "source": [
    "from flask import Flask\n",
    "from flask_googlemaps import GoogleMaps\n",
    "\n",
    "app = Flask(__name__)\n",
    "\n",
    "# you can set key as config\n",
    "app.config['GOOGLEMAPS_KEY'] = \"8JZ7i18MjFuM35dJHq70n3Hx4\"\n",
    "\n",
    "# Initialize the extension\n",
    "GoogleMaps(app)\n",
    "\n",
    "# you can also pass the key here if you prefer\n",
    "GoogleMaps(app, key=\"8JZ7i18MjFuM35dJHq70n3Hx4\")\n"
   ]
  },
  {
   "cell_type": "code",
   "execution_count": 5,
   "metadata": {},
   "outputs": [
    {
     "name": "stdout",
     "output_type": "stream",
     "text": [
      " * Serving Flask app \"__main__\" (lazy loading)\n",
      " * Environment: production\n",
      "   WARNING: This is a development server. Do not use it in a production deployment.\n",
      "   Use a production WSGI server instead.\n",
      " * Debug mode: on\n"
     ]
    },
    {
     "name": "stderr",
     "output_type": "stream",
     "text": [
      " * Restarting with windowsapi reloader\n"
     ]
    },
    {
     "ename": "SystemExit",
     "evalue": "1",
     "output_type": "error",
     "traceback": [
      "An exception has occurred, use %tb to see the full traceback.\n",
      "\u001b[1;31mSystemExit\u001b[0m\u001b[1;31m:\u001b[0m 1\n"
     ]
    },
    {
     "name": "stderr",
     "output_type": "stream",
     "text": [
      "C:\\Users\\USER\\anaconda3\\lib\\site-packages\\IPython\\core\\interactiveshell.py:3339: UserWarning: To exit: use 'exit', 'quit', or Ctrl-D.\n",
      "  warn(\"To exit: use 'exit', 'quit', or Ctrl-D.\", stacklevel=1)\n"
     ]
    }
   ],
   "source": [
    "from flask import Flask, render_template\n",
    "from flask_googlemaps import GoogleMaps\n",
    "from flask_googlemaps import Map\n",
    "\n",
    "app = Flask(__name__, template_folder=\".\")\n",
    "GoogleMaps(app)\n",
    "\n",
    "@app.route(\"/\")\n",
    "def mapview():\n",
    "    # creating a map in the view\n",
    "    mymap = Map(\n",
    "        identifier=\"view-side\",\n",
    "        lat=37.4419,\n",
    "        lng=-122.1419,\n",
    "        markers=[(37.4419, -122.1419)]\n",
    "    )\n",
    "    sndmap = Map(\n",
    "        identifier=\"sndmap\",\n",
    "        lat=37.4419,\n",
    "        lng=-122.1419,\n",
    "        markers=[\n",
    "          {\n",
    "             'icon': 'http://maps.google.com/mapfiles/ms/icons/green-dot.png',\n",
    "             'lat': 37.4419,\n",
    "             'lng': -122.1419,\n",
    "             'infobox': \"<b>Hello World</b>\"\n",
    "          },\n",
    "          {\n",
    "             'icon': 'http://maps.google.com/mapfiles/ms/icons/blue-dot.png',\n",
    "             'lat': 37.4300,\n",
    "             'lng': -122.1400,\n",
    "             'infobox': \"<b>Hello World from other place</b>\"\n",
    "          }\n",
    "        ]\n",
    "    )\n",
    "    return render_template('example.html', mymap=mymap, sndmap=sndmap)\n",
    "\n",
    "if __name__ == \"__main__\":\n",
    "    app.run(debug=True)\n"
   ]
  },
  {
   "cell_type": "code",
   "execution_count": 6,
   "metadata": {},
   "outputs": [
    {
     "ename": "SyntaxError",
     "evalue": "invalid syntax (<ipython-input-6-553e1de4a8d3>, line 1)",
     "output_type": "error",
     "traceback": [
      "\u001b[1;36m  File \u001b[1;32m\"<ipython-input-6-553e1de4a8d3>\"\u001b[1;36m, line \u001b[1;32m1\u001b[0m\n\u001b[1;33m    <!DOCTYPE html>\u001b[0m\n\u001b[1;37m    ^\u001b[0m\n\u001b[1;31mSyntaxError\u001b[0m\u001b[1;31m:\u001b[0m invalid syntax\n"
     ]
    }
   ],
   "source": [
    "<!DOCTYPE html>\n",
    "<html>\n",
    "  <head>\n",
    "    {{\"decoupled-map\"|googlemap_js(37.4419, -122.1419, markers=[(37.4419,\n",
    "    -122.1419)])}} {{mymap.js}} {{sndmap.js}}\n",
    "  </head>\n",
    "  <body>\n",
    "    <h1>Flask Google Maps Example</h1>\n",
    "\n",
    "    <h2>Template function centered, no marker</h2>\n",
    "    {{googlemap(\"simple-map\", 37.4419, -122.1419)}}\n",
    "\n",
    "    <h2>Template filter decoupled with single marker</h2>\n",
    "    {{\"decoupled-map\"|googlemap_html(37.4419, -122.1419)}}\n",
    "\n",
    "    <h2>Template function with multiple markers</h2>\n",
    "    {% with map=googlemap_obj(\"another-map\", 37.4419, -122.1419,\n",
    "    markers=[(37.4419, -122.1419), (37.4300, -122.1400)]) %} {{map.html}}\n",
    "    {{map.js}} {% endwith %}\n",
    "\n",
    "    <h2>First map generated in view</h2>\n",
    "    {{mymap.html}}\n",
    "\n",
    "    <h2>Second map generated in view</h2>\n",
    "    <h3>Example for different icons in multiple markers with infoboxes</h3>\n",
    "    {{sndmap.html}}\n",
    "  </body>\n",
    "</html>\n"
   ]
  },
  {
   "cell_type": "code",
   "execution_count": 7,
   "metadata": {},
   "outputs": [
    {
     "data": {
      "text/plain": [
       "<flask_googlemaps.Map at 0x1bea7ed3308>"
      ]
     },
     "execution_count": 7,
     "metadata": {},
     "output_type": "execute_result"
    }
   ],
   "source": [
    "    Map(\n",
    "        identifier=\"catsmap\",\n",
    "        lat=37.4419,\n",
    "        lng=-122.1419,\n",
    "        markers=[\n",
    "            {\n",
    "                'icon': 'http://maps.google.com/mapfiles/ms/icons/green-dot.png',\n",
    "                'lat':  37.4419,\n",
    "                'lng':  -122.1419,\n",
    "                'infobox': \"<img src='cat1.jpg' />\"\n",
    "            },\n",
    "            {\n",
    "                'icon': 'http://maps.google.com/mapfiles/ms/icons/blue-dot.png',\n",
    "                'lat': 37.4300,\n",
    "                'lng': -122.1400,\n",
    "                'infobox': \"<img src='cat2.jpg' />\"\n",
    "            },\n",
    "            {\n",
    "                'icon': 'http://maps.google.com/mapfiles/ms/icons/yellow-dot.png',\n",
    "                'lat': 37.4500,\n",
    "                'lng': -122.1350,\n",
    "                'infobox': \"<img src='cat3.jpg' />\"\n",
    "            }\n",
    "        ]\n",
    "    )\n"
   ]
  },
  {
   "cell_type": "code",
   "execution_count": 8,
   "metadata": {},
   "outputs": [
    {
     "ename": "IndentationError",
     "evalue": "expected an indented block (<ipython-input-8-b7aa70ea3fc3>, line 3)",
     "output_type": "error",
     "traceback": [
      "\u001b[1;36m  File \u001b[1;32m\"<ipython-input-8-b7aa70ea3fc3>\"\u001b[1;36m, line \u001b[1;32m3\u001b[0m\n\u001b[1;33m    \"\"\"Create map with markers out of bounds.\"\"\"\u001b[0m\n\u001b[1;37m                                               ^\u001b[0m\n\u001b[1;31mIndentationError\u001b[0m\u001b[1;31m:\u001b[0m expected an indented block\n"
     ]
    }
   ],
   "source": [
    "@app.route('/map-unbounded/')\n",
    "def map_unbounded():\n",
    "\"\"\"Create map with markers out of bounds.\"\"\"\n",
    "    locations = []    # long list of coordinates\n",
    "    map = Map(\n",
    "        lat=locations[0].latitude,\n",
    "        lng=locations[0].longitude,\n",
    "        markers=[(loc.latitude, loc.longitude) for loc in locations]\n",
    "    )\n",
    "    return render_template('map.html', map=map)\n"
   ]
  },
  {
   "cell_type": "code",
   "execution_count": null,
   "metadata": {},
   "outputs": [],
   "source": []
  }
 ],
 "metadata": {
  "kernelspec": {
   "display_name": "Python 3",
   "language": "python",
   "name": "python3"
  },
  "language_info": {
   "codemirror_mode": {
    "name": "ipython",
    "version": 3
   },
   "file_extension": ".py",
   "mimetype": "text/x-python",
   "name": "python",
   "nbconvert_exporter": "python",
   "pygments_lexer": "ipython3",
   "version": "3.7.6"
  }
 },
 "nbformat": 4,
 "nbformat_minor": 4
}
